{
  "nbformat": 4,
  "nbformat_minor": 0,
  "metadata": {
    "colab": {
      "provenance": []
    },
    "kernelspec": {
      "name": "python3",
      "display_name": "Python 3"
    },
    "language_info": {
      "name": "python"
    },
    "accelerator": "GPU"
  },
  "cells": [
    {
      "cell_type": "markdown",
      "source": [
        "## Case-A(i)"
      ],
      "metadata": {
        "id": "oj7_zbPsNLKt"
      }
    },
    {
      "cell_type": "code",
      "metadata": {
        "id": "njjbgQXJI-Ez"
      },
      "source": [
        "from tensorflow import keras\n",
        "from keras.datasets import cifar10\n",
        "from keras.models import Sequential\n",
        "from keras.layers import Dense, Conv2D, MaxPooling2D, AveragePooling2D, Flatten, Dropout, BatchNormalization, Activation\n",
        "from keras import backend as K\n",
        "from tensorflow.keras.utils import to_categorical"
      ],
      "execution_count": null,
      "outputs": []
    },
    {
      "cell_type": "code",
      "metadata": {
        "id": "Fcn8TffZJLVM"
      },
      "source": [
        "batch_size = 64\n",
        "num_classes = 10\n",
        "epochs = 50"
      ],
      "execution_count": null,
      "outputs": []
    },
    {
      "cell_type": "code",
      "metadata": {
        "id": "aDKabmGIJNHj",
        "colab": {
          "base_uri": "https://localhost:8080/"
        },
        "outputId": "98ee0140-8aeb-4c15-adc6-3170a353c915"
      },
      "source": [
        "#  input image dimensions\n",
        "img_rows, img_cols = 32, 32\n",
        "# the data, split between train and test sets\n",
        "(x_train, y_train), (x_test, y_test) = cifar10.load_data()\n",
        "if K.image_data_format() == 'channels_first':\n",
        "  x_train = x_train.reshape(x_train.shape[0], 3, img_rows, img_cols)\n",
        "  x_test = x_test.reshape(x_test.shape[0], 3, img_rows, img_cols)\n",
        "  input_shape = (3, img_rows, img_cols)\n",
        "else:\n",
        "  x_train = x_train.reshape(x_train.shape[0], img_rows, img_cols, 3)\n",
        "  x_test = x_test.reshape(x_test.shape[0], img_rows, img_cols, 3)\n",
        "  input_shape = (img_rows, img_cols, 3)"
      ],
      "execution_count": null,
      "outputs": [
        {
          "output_type": "stream",
          "name": "stdout",
          "text": [
            "Downloading data from https://www.cs.toronto.edu/~kriz/cifar-10-python.tar.gz\n",
            "170498071/170498071 [==============================] - 4s 0us/step\n"
          ]
        }
      ]
    },
    {
      "cell_type": "code",
      "metadata": {
        "id": "PjSWJUwfJU8E",
        "colab": {
          "base_uri": "https://localhost:8080/"
        },
        "outputId": "b22536f6-c785-4526-d67b-45ad1dac3d42"
      },
      "source": [
        "x_train = x_train.astype('float32')\n",
        "x_test = x_test.astype('float32')\n",
        "x_train /= 255\n",
        "x_test /= 255\n",
        "print('x_train shape:', x_train.shape)\n",
        "print(x_train.shape[0], 'training samples')\n",
        "print(x_test.shape[0], 'testing samples')\n",
        "\n",
        "# convert class vectors to binary class matrices\n",
        "y_train = to_categorical(y_train, num_classes)\n",
        "y_test = to_categorical(y_test, num_classes)"
      ],
      "execution_count": null,
      "outputs": [
        {
          "output_type": "stream",
          "name": "stdout",
          "text": [
            "x_train shape: (50000, 32, 32, 3)\n",
            "50000 training samples\n",
            "10000 testing samples\n"
          ]
        }
      ]
    },
    {
      "cell_type": "code",
      "metadata": {
        "id": "IMupwjnAJW1J"
      },
      "source": [
        "model = Sequential()\n",
        "model.add(Conv2D(filters = 32, kernel_size = (3,3), padding='same', input_shape = input_shape))\n",
        "model.add(Activation('relu'))\n",
        "model.add(BatchNormalization())\n",
        "model.add(Conv2D(filters = 32, kernel_size = (3,3), padding='same'))\n",
        "model.add(Activation('relu'))\n",
        "model.add(BatchNormalization())\n",
        "model.add(MaxPooling2D(2,2))\n",
        "model.add(Dropout(0.2))\n",
        "\n",
        "model.add(Conv2D(filters = 64, kernel_size = (3,3), padding='same'))\n",
        "model.add(Activation('relu'))\n",
        "model.add(BatchNormalization())\n",
        "model.add(Conv2D(filters = 64, kernel_size = (3,3), padding='same'))\n",
        "model.add(Activation('relu'))\n",
        "model.add(BatchNormalization())\n",
        "model.add(MaxPooling2D(2,2))\n",
        "model.add(Dropout(0.3))\n",
        "\n",
        "model.add(Conv2D(filters = 128, kernel_size = (3,3), padding='same'))\n",
        "model.add(Activation('relu'))\n",
        "model.add(BatchNormalization())\n",
        "model.add(Conv2D(filters = 128, kernel_size = (3,3), padding='same'))\n",
        "model.add(Activation('relu'))\n",
        "model.add(BatchNormalization())\n",
        "model.add(MaxPooling2D(2,2))\n",
        "model.add(Dropout(0.4))\n",
        "\n",
        "model.add(Flatten())\n",
        "\n",
        "model.add(Dense(units = 10, activation = 'softmax'))"
      ],
      "execution_count": null,
      "outputs": []
    },
    {
      "cell_type": "code",
      "metadata": {
        "id": "g4rC8aZKJbgT",
        "colab": {
          "base_uri": "https://localhost:8080/"
        },
        "outputId": "2fc0ba0d-36a9-42c9-b095-b872a74aa769"
      },
      "source": [
        "# https://keras.io/optimizers/\n",
        "model.compile(loss=keras.losses.categorical_crossentropy, optimizer=keras.optimizers.Adam(lr=0.05), metrics=['accuracy'])"
      ],
      "execution_count": null,
      "outputs": [
        {
          "output_type": "stream",
          "name": "stderr",
          "text": [
            "/usr/local/lib/python3.8/dist-packages/keras/optimizers/optimizer_v2/adam.py:110: UserWarning: The `lr` argument is deprecated, use `learning_rate` instead.\n",
            "  super(Adam, self).__init__(name, **kwargs)\n"
          ]
        }
      ]
    },
    {
      "cell_type": "code",
      "metadata": {
        "id": "UAPwRRVtJfVO",
        "colab": {
          "base_uri": "https://localhost:8080/"
        },
        "outputId": "70d31452-59e4-4ccd-9320-86c6a242bb5e"
      },
      "source": [
        "model.fit(x_train, y_train, batch_size=batch_size, epochs=epochs, verbose=1, validation_data=(x_test, y_test))\n",
        "score = model.evaluate(x_test, y_test, verbose=0)\n",
        "print('Test loss:', score[0])\n",
        "print('Test accuracy:', score[1])"
      ],
      "execution_count": null,
      "outputs": [
        {
          "output_type": "stream",
          "name": "stdout",
          "text": [
            "Epoch 1/50\n",
            "782/782 [==============================] - 20s 11ms/step - loss: 2.5958 - accuracy: 0.2849 - val_loss: 3.1024 - val_accuracy: 0.1957\n",
            "Epoch 2/50\n",
            "782/782 [==============================] - 8s 10ms/step - loss: 1.7128 - accuracy: 0.4010 - val_loss: 2.6904 - val_accuracy: 0.3168\n",
            "Epoch 3/50\n",
            "782/782 [==============================] - 8s 10ms/step - loss: 1.4996 - accuracy: 0.5044 - val_loss: 46.5599 - val_accuracy: 0.4495\n",
            "Epoch 4/50\n",
            "782/782 [==============================] - 8s 10ms/step - loss: 1.3852 - accuracy: 0.5518 - val_loss: 33.5987 - val_accuracy: 0.5177\n",
            "Epoch 5/50\n",
            "782/782 [==============================] - 8s 10ms/step - loss: 1.3790 - accuracy: 0.5712 - val_loss: 1.2240 - val_accuracy: 0.6219\n",
            "Epoch 6/50\n",
            "782/782 [==============================] - 8s 10ms/step - loss: 1.2917 - accuracy: 0.6042 - val_loss: 28.6126 - val_accuracy: 0.1598\n",
            "Epoch 7/50\n",
            "782/782 [==============================] - 8s 10ms/step - loss: 1.3019 - accuracy: 0.6145 - val_loss: 1.0932 - val_accuracy: 0.6789\n",
            "Epoch 8/50\n",
            "782/782 [==============================] - 9s 11ms/step - loss: 1.2860 - accuracy: 0.6291 - val_loss: 1.4058 - val_accuracy: 0.6149\n",
            "Epoch 9/50\n",
            "782/782 [==============================] - 8s 10ms/step - loss: 1.2373 - accuracy: 0.6400 - val_loss: 0.9628 - val_accuracy: 0.7101\n",
            "Epoch 10/50\n",
            "782/782 [==============================] - 8s 10ms/step - loss: 1.2668 - accuracy: 0.6451 - val_loss: 1.1840 - val_accuracy: 0.6601\n",
            "Epoch 11/50\n",
            "782/782 [==============================] - 8s 11ms/step - loss: 1.2267 - accuracy: 0.6588 - val_loss: 1.0967 - val_accuracy: 0.6738\n",
            "Epoch 12/50\n",
            "782/782 [==============================] - 8s 10ms/step - loss: 1.1796 - accuracy: 0.6711 - val_loss: 1.3288 - val_accuracy: 0.6534\n",
            "Epoch 13/50\n",
            "782/782 [==============================] - 8s 10ms/step - loss: 1.1557 - accuracy: 0.6824 - val_loss: 1.0967 - val_accuracy: 0.6795\n",
            "Epoch 14/50\n",
            "782/782 [==============================] - 8s 10ms/step - loss: 1.1746 - accuracy: 0.6833 - val_loss: 1.1690 - val_accuracy: 0.6559\n",
            "Epoch 15/50\n",
            "782/782 [==============================] - 8s 10ms/step - loss: 1.1868 - accuracy: 0.6885 - val_loss: 1.1417 - val_accuracy: 0.6866\n",
            "Epoch 16/50\n",
            "782/782 [==============================] - 8s 10ms/step - loss: 1.1510 - accuracy: 0.6996 - val_loss: 0.9659 - val_accuracy: 0.7431\n",
            "Epoch 17/50\n",
            "782/782 [==============================] - 8s 10ms/step - loss: 1.1592 - accuracy: 0.7041 - val_loss: 1.2750 - val_accuracy: 0.6573\n",
            "Epoch 18/50\n",
            "782/782 [==============================] - 8s 10ms/step - loss: 1.1373 - accuracy: 0.7083 - val_loss: 0.9393 - val_accuracy: 0.7304\n",
            "Epoch 19/50\n",
            "782/782 [==============================] - 8s 10ms/step - loss: 1.0745 - accuracy: 0.7203 - val_loss: 1.0413 - val_accuracy: 0.7333\n",
            "Epoch 20/50\n",
            "782/782 [==============================] - 8s 10ms/step - loss: 1.1415 - accuracy: 0.7193 - val_loss: 1.0594 - val_accuracy: 0.7363\n",
            "Epoch 21/50\n",
            "782/782 [==============================] - 8s 10ms/step - loss: 1.1082 - accuracy: 0.7246 - val_loss: 1.4421 - val_accuracy: 0.6587\n",
            "Epoch 22/50\n",
            "782/782 [==============================] - 8s 10ms/step - loss: 1.1368 - accuracy: 0.7297 - val_loss: 1.4706 - val_accuracy: 0.6583\n",
            "Epoch 23/50\n",
            "782/782 [==============================] - 8s 10ms/step - loss: 1.0781 - accuracy: 0.7382 - val_loss: 1.1369 - val_accuracy: 0.7194\n",
            "Epoch 24/50\n",
            "782/782 [==============================] - 8s 10ms/step - loss: 1.1580 - accuracy: 0.7371 - val_loss: 0.9942 - val_accuracy: 0.7423\n",
            "Epoch 25/50\n",
            "782/782 [==============================] - 8s 10ms/step - loss: 1.1759 - accuracy: 0.7388 - val_loss: 1.2024 - val_accuracy: 0.7252\n",
            "Epoch 26/50\n",
            "782/782 [==============================] - 8s 10ms/step - loss: 1.0777 - accuracy: 0.7505 - val_loss: 0.8505 - val_accuracy: 0.7908\n",
            "Epoch 27/50\n",
            "782/782 [==============================] - 8s 11ms/step - loss: 1.0801 - accuracy: 0.7493 - val_loss: 0.9874 - val_accuracy: 0.7598\n",
            "Epoch 28/50\n",
            "782/782 [==============================] - 8s 10ms/step - loss: 1.0976 - accuracy: 0.7522 - val_loss: 1.0955 - val_accuracy: 0.7488\n",
            "Epoch 29/50\n",
            "782/782 [==============================] - 8s 10ms/step - loss: 1.1104 - accuracy: 0.7571 - val_loss: 1.1221 - val_accuracy: 0.7439\n",
            "Epoch 30/50\n",
            "782/782 [==============================] - 8s 10ms/step - loss: 1.0502 - accuracy: 0.7640 - val_loss: 0.9226 - val_accuracy: 0.7773\n",
            "Epoch 31/50\n",
            "782/782 [==============================] - 8s 10ms/step - loss: 1.1023 - accuracy: 0.7603 - val_loss: 1.0779 - val_accuracy: 0.7606\n",
            "Epoch 32/50\n",
            "782/782 [==============================] - 8s 10ms/step - loss: 1.0544 - accuracy: 0.7675 - val_loss: 1.2834 - val_accuracy: 0.7501\n",
            "Epoch 33/50\n",
            "782/782 [==============================] - 8s 10ms/step - loss: 1.0950 - accuracy: 0.7677 - val_loss: 0.9167 - val_accuracy: 0.8049\n",
            "Epoch 34/50\n",
            "782/782 [==============================] - 8s 10ms/step - loss: 1.0889 - accuracy: 0.7706 - val_loss: 1.5295 - val_accuracy: 0.7153\n",
            "Epoch 35/50\n",
            "782/782 [==============================] - 8s 10ms/step - loss: 1.0783 - accuracy: 0.7716 - val_loss: 2.0842 - val_accuracy: 0.6861\n",
            "Epoch 36/50\n",
            "782/782 [==============================] - 9s 11ms/step - loss: 1.1077 - accuracy: 0.7729 - val_loss: 1.5387 - val_accuracy: 0.6800\n",
            "Epoch 37/50\n",
            "782/782 [==============================] - 9s 11ms/step - loss: 1.1420 - accuracy: 0.7730 - val_loss: 1.1017 - val_accuracy: 0.7878\n",
            "Epoch 38/50\n",
            "782/782 [==============================] - 8s 10ms/step - loss: 1.0305 - accuracy: 0.7824 - val_loss: 1.2756 - val_accuracy: 0.7732\n",
            "Epoch 39/50\n",
            "782/782 [==============================] - 8s 10ms/step - loss: 1.0567 - accuracy: 0.7822 - val_loss: 1.2768 - val_accuracy: 0.7455\n",
            "Epoch 40/50\n",
            "782/782 [==============================] - 8s 10ms/step - loss: 1.0450 - accuracy: 0.7845 - val_loss: 1.1059 - val_accuracy: 0.7859\n",
            "Epoch 41/50\n",
            "782/782 [==============================] - 8s 10ms/step - loss: 1.1240 - accuracy: 0.7819 - val_loss: 1.3293 - val_accuracy: 0.7772\n",
            "Epoch 42/50\n",
            "782/782 [==============================] - 8s 10ms/step - loss: 1.0818 - accuracy: 0.7875 - val_loss: 1.4530 - val_accuracy: 0.7498\n",
            "Epoch 43/50\n",
            "782/782 [==============================] - 8s 10ms/step - loss: 1.1079 - accuracy: 0.7874 - val_loss: 1.0883 - val_accuracy: 0.7902\n",
            "Epoch 44/50\n",
            "782/782 [==============================] - 8s 10ms/step - loss: 1.1094 - accuracy: 0.7912 - val_loss: 1.6800 - val_accuracy: 0.7568\n",
            "Epoch 45/50\n",
            "782/782 [==============================] - 8s 10ms/step - loss: 1.1080 - accuracy: 0.7905 - val_loss: 1.4887 - val_accuracy: 0.7409\n",
            "Epoch 46/50\n",
            "782/782 [==============================] - 8s 10ms/step - loss: 1.1128 - accuracy: 0.7928 - val_loss: 1.2400 - val_accuracy: 0.7766\n",
            "Epoch 47/50\n",
            "782/782 [==============================] - 8s 10ms/step - loss: 1.0554 - accuracy: 0.7971 - val_loss: 1.0558 - val_accuracy: 0.7945\n",
            "Epoch 48/50\n",
            "782/782 [==============================] - 8s 10ms/step - loss: 1.0877 - accuracy: 0.7970 - val_loss: 1.0736 - val_accuracy: 0.8031\n",
            "Epoch 49/50\n",
            "782/782 [==============================] - 8s 10ms/step - loss: 1.1089 - accuracy: 0.7940 - val_loss: 1.4520 - val_accuracy: 0.7727\n",
            "Epoch 50/50\n",
            "782/782 [==============================] - 8s 10ms/step - loss: 1.0529 - accuracy: 0.8004 - val_loss: 1.5697 - val_accuracy: 0.7482\n",
            "Test loss: 1.5697132349014282\n",
            "Test accuracy: 0.748199999332428\n"
          ]
        }
      ]
    },
    {
      "cell_type": "markdown",
      "source": [
        "## Case-A(ii)"
      ],
      "metadata": {
        "id": "69uPXC18Pxh-"
      }
    },
    {
      "cell_type": "code",
      "source": [
        "from tensorflow import keras\n",
        "from keras.datasets import cifar10\n",
        "from keras.models import Sequential\n",
        "from keras.layers import Dense, Conv2D, MaxPooling2D, AveragePooling2D, Flatten, Dropout, BatchNormalization, Activation\n",
        "from keras import backend as K\n",
        "from tensorflow.keras.utils import to_categorical"
      ],
      "metadata": {
        "id": "Q6feziRiPuWt"
      },
      "execution_count": 15,
      "outputs": []
    },
    {
      "cell_type": "code",
      "source": [
        "batch_size = 64\n",
        "num_classes = 10\n",
        "epochs = 50"
      ],
      "metadata": {
        "id": "Kvl4kXOMPwR8"
      },
      "execution_count": 16,
      "outputs": []
    },
    {
      "cell_type": "code",
      "source": [
        "#  input image dimensions\n",
        "img_rows, img_cols = 32, 32\n",
        "# the data, split between train and test sets\n",
        "(x_train, y_train), (x_test, y_test) = cifar10.load_data()\n",
        "if K.image_data_format() == 'channels_first':\n",
        "  x_train = x_train.reshape(x_train.shape[0], 3, img_rows, img_cols)\n",
        "  x_test = x_test.reshape(x_test.shape[0], 3, img_rows, img_cols)\n",
        "  input_shape = (3, img_rows, img_cols)\n",
        "else:\n",
        "  x_train = x_train.reshape(x_train.shape[0], img_rows, img_cols, 3)\n",
        "  x_test = x_test.reshape(x_test.shape[0], img_rows, img_cols, 3)\n",
        "  input_shape = (img_rows, img_cols, 3)"
      ],
      "metadata": {
        "id": "dakBXCQ-PvRh"
      },
      "execution_count": 17,
      "outputs": []
    },
    {
      "cell_type": "code",
      "source": [
        "x_train = x_train.astype('float32')\n",
        "x_test = x_test.astype('float32')\n",
        "x_train /= 255\n",
        "x_test /= 255\n",
        "print('x_train shape:', x_train.shape)\n",
        "print(x_train.shape[0], 'training samples')\n",
        "print(x_test.shape[0], 'testing samples')\n",
        "\n",
        "# convert class vectors to binary class matrices\n",
        "y_train = to_categorical(y_train, num_classes)\n",
        "y_test = to_categorical(y_test, num_classes)"
      ],
      "metadata": {
        "colab": {
          "base_uri": "https://localhost:8080/"
        },
        "id": "xtRdmopMPvLD",
        "outputId": "9f3e54ef-92de-470e-e6fb-5e4b7ff13317"
      },
      "execution_count": 18,
      "outputs": [
        {
          "output_type": "stream",
          "name": "stdout",
          "text": [
            "x_train shape: (50000, 32, 32, 3)\n",
            "50000 training samples\n",
            "10000 testing samples\n"
          ]
        }
      ]
    },
    {
      "cell_type": "code",
      "source": [
        "model = Sequential()\n",
        "model.add(Conv2D(filters = 32, kernel_size = (3,3), padding='same', input_shape = input_shape))\n",
        "model.add(Activation('relu'))\n",
        "model.add(BatchNormalization())\n",
        "model.add(Conv2D(filters = 32, kernel_size = (3,3), padding='same'))\n",
        "model.add(Activation('relu'))\n",
        "model.add(BatchNormalization())\n",
        "model.add(MaxPooling2D(2,2))\n",
        "model.add(Dropout(0.2))\n",
        "\n",
        "model.add(Conv2D(filters = 64, kernel_size = (3,3), padding='same'))\n",
        "model.add(Activation('relu'))\n",
        "model.add(BatchNormalization())\n",
        "model.add(Conv2D(filters = 64, kernel_size = (3,3), padding='same'))\n",
        "model.add(Activation('relu'))\n",
        "model.add(BatchNormalization())\n",
        "model.add(MaxPooling2D(2,2))\n",
        "model.add(Dropout(0.3))\n",
        "\n",
        "model.add(Conv2D(filters = 128, kernel_size = (3,3), padding='same'))\n",
        "model.add(Activation('relu'))\n",
        "model.add(BatchNormalization())\n",
        "model.add(Conv2D(filters = 128, kernel_size = (3,3), padding='same'))\n",
        "model.add(Activation('relu'))\n",
        "model.add(BatchNormalization())\n",
        "model.add(MaxPooling2D(2,2))\n",
        "model.add(Dropout(0.4))\n",
        "\n",
        "model.add(Flatten())\n",
        "\n",
        "model.add(Dense(units = 10, activation = 'softmax'))"
      ],
      "metadata": {
        "id": "K5n3INO6PvEc"
      },
      "execution_count": 19,
      "outputs": []
    },
    {
      "cell_type": "code",
      "source": [
        "# https://keras.io/optimizers/\n",
        "model.compile(loss=keras.losses.categorical_crossentropy, optimizer=keras.optimizers.Adam(lr=0.0001), metrics=['accuracy'])"
      ],
      "metadata": {
        "id": "mrXJ1HPEPu1M"
      },
      "execution_count": 20,
      "outputs": []
    },
    {
      "cell_type": "code",
      "source": [
        "model.fit(x_train, y_train, batch_size=batch_size, epochs=epochs, verbose=1, validation_data=(x_test, y_test))\n",
        "score = model.evaluate(x_test, y_test, verbose=0)\n",
        "print('Test loss:', score[0])\n",
        "print('Test accuracy:', score[1])"
      ],
      "metadata": {
        "colab": {
          "base_uri": "https://localhost:8080/"
        },
        "id": "p2mOFLOwQWWI",
        "outputId": "d6574f86-650d-4f3f-9749-4dff44cf8573"
      },
      "execution_count": 21,
      "outputs": [
        {
          "output_type": "stream",
          "name": "stdout",
          "text": [
            "Epoch 1/50\n",
            "782/782 [==============================] - 10s 12ms/step - loss: 2.4578 - accuracy: 0.3212 - val_loss: 1.5952 - val_accuracy: 0.4349\n",
            "Epoch 2/50\n",
            "782/782 [==============================] - 8s 10ms/step - loss: 1.7573 - accuracy: 0.4372 - val_loss: 1.4235 - val_accuracy: 0.4997\n",
            "Epoch 3/50\n",
            "782/782 [==============================] - 9s 12ms/step - loss: 1.5203 - accuracy: 0.4984 - val_loss: 1.3690 - val_accuracy: 0.5090\n",
            "Epoch 4/50\n",
            "782/782 [==============================] - 8s 10ms/step - loss: 1.3668 - accuracy: 0.5472 - val_loss: 1.2684 - val_accuracy: 0.5554\n",
            "Epoch 5/50\n",
            "782/782 [==============================] - 8s 11ms/step - loss: 1.2243 - accuracy: 0.5884 - val_loss: 1.1854 - val_accuracy: 0.5937\n",
            "Epoch 6/50\n",
            "782/782 [==============================] - 9s 11ms/step - loss: 1.1228 - accuracy: 0.6195 - val_loss: 1.1573 - val_accuracy: 0.5949\n",
            "Epoch 7/50\n",
            "782/782 [==============================] - 9s 12ms/step - loss: 1.0340 - accuracy: 0.6484 - val_loss: 0.9935 - val_accuracy: 0.6574\n",
            "Epoch 8/50\n",
            "782/782 [==============================] - 8s 11ms/step - loss: 0.9628 - accuracy: 0.6717 - val_loss: 0.8948 - val_accuracy: 0.6905\n",
            "Epoch 9/50\n",
            "782/782 [==============================] - 9s 11ms/step - loss: 0.9008 - accuracy: 0.6900 - val_loss: 0.8690 - val_accuracy: 0.6982\n",
            "Epoch 10/50\n",
            "782/782 [==============================] - 8s 10ms/step - loss: 0.8488 - accuracy: 0.7049 - val_loss: 0.8182 - val_accuracy: 0.7168\n",
            "Epoch 11/50\n",
            "782/782 [==============================] - 9s 11ms/step - loss: 0.8034 - accuracy: 0.7238 - val_loss: 0.7630 - val_accuracy: 0.7350\n",
            "Epoch 12/50\n",
            "782/782 [==============================] - 9s 11ms/step - loss: 0.7716 - accuracy: 0.7330 - val_loss: 0.7411 - val_accuracy: 0.7466\n",
            "Epoch 13/50\n",
            "782/782 [==============================] - 8s 10ms/step - loss: 0.7320 - accuracy: 0.7456 - val_loss: 0.7031 - val_accuracy: 0.7585\n",
            "Epoch 14/50\n",
            "782/782 [==============================] - 8s 11ms/step - loss: 0.7015 - accuracy: 0.7556 - val_loss: 0.7053 - val_accuracy: 0.7569\n",
            "Epoch 15/50\n",
            "782/782 [==============================] - 8s 11ms/step - loss: 0.6761 - accuracy: 0.7631 - val_loss: 0.6797 - val_accuracy: 0.7658\n",
            "Epoch 16/50\n",
            "782/782 [==============================] - 9s 11ms/step - loss: 0.6452 - accuracy: 0.7741 - val_loss: 0.6783 - val_accuracy: 0.7650\n",
            "Epoch 17/50\n",
            "782/782 [==============================] - 9s 12ms/step - loss: 0.6234 - accuracy: 0.7824 - val_loss: 0.6407 - val_accuracy: 0.7771\n",
            "Epoch 18/50\n",
            "782/782 [==============================] - 9s 11ms/step - loss: 0.6067 - accuracy: 0.7867 - val_loss: 0.6272 - val_accuracy: 0.7863\n",
            "Epoch 19/50\n",
            "782/782 [==============================] - 8s 11ms/step - loss: 0.5870 - accuracy: 0.7940 - val_loss: 0.6216 - val_accuracy: 0.7868\n",
            "Epoch 20/50\n",
            "782/782 [==============================] - 8s 10ms/step - loss: 0.5692 - accuracy: 0.8001 - val_loss: 0.6115 - val_accuracy: 0.7861\n",
            "Epoch 21/50\n",
            "782/782 [==============================] - 8s 11ms/step - loss: 0.5495 - accuracy: 0.8067 - val_loss: 0.6167 - val_accuracy: 0.7865\n",
            "Epoch 22/50\n",
            "782/782 [==============================] - 8s 11ms/step - loss: 0.5300 - accuracy: 0.8148 - val_loss: 0.6395 - val_accuracy: 0.7829\n",
            "Epoch 23/50\n",
            "782/782 [==============================] - 8s 10ms/step - loss: 0.5170 - accuracy: 0.8169 - val_loss: 0.5812 - val_accuracy: 0.8019\n",
            "Epoch 24/50\n",
            "782/782 [==============================] - 8s 10ms/step - loss: 0.5020 - accuracy: 0.8258 - val_loss: 0.5893 - val_accuracy: 0.8005\n",
            "Epoch 25/50\n",
            "782/782 [==============================] - 8s 10ms/step - loss: 0.4846 - accuracy: 0.8293 - val_loss: 0.5948 - val_accuracy: 0.7961\n",
            "Epoch 26/50\n",
            "782/782 [==============================] - 8s 11ms/step - loss: 0.4761 - accuracy: 0.8317 - val_loss: 0.5659 - val_accuracy: 0.8060\n",
            "Epoch 27/50\n",
            "782/782 [==============================] - 10s 13ms/step - loss: 0.4651 - accuracy: 0.8349 - val_loss: 0.5807 - val_accuracy: 0.8034\n",
            "Epoch 28/50\n",
            "782/782 [==============================] - 9s 12ms/step - loss: 0.4499 - accuracy: 0.8418 - val_loss: 0.5551 - val_accuracy: 0.8089\n",
            "Epoch 29/50\n",
            "782/782 [==============================] - 9s 12ms/step - loss: 0.4393 - accuracy: 0.8441 - val_loss: 0.5603 - val_accuracy: 0.8087\n",
            "Epoch 30/50\n",
            "782/782 [==============================] - 8s 10ms/step - loss: 0.4282 - accuracy: 0.8494 - val_loss: 0.5264 - val_accuracy: 0.8224\n",
            "Epoch 31/50\n",
            "782/782 [==============================] - 10s 12ms/step - loss: 0.4210 - accuracy: 0.8504 - val_loss: 0.5685 - val_accuracy: 0.8035\n",
            "Epoch 32/50\n",
            "782/782 [==============================] - 8s 11ms/step - loss: 0.4083 - accuracy: 0.8562 - val_loss: 0.5612 - val_accuracy: 0.8110\n",
            "Epoch 33/50\n",
            "782/782 [==============================] - 9s 12ms/step - loss: 0.3967 - accuracy: 0.8593 - val_loss: 0.5569 - val_accuracy: 0.8113\n",
            "Epoch 34/50\n",
            "782/782 [==============================] - 8s 11ms/step - loss: 0.3907 - accuracy: 0.8607 - val_loss: 0.5699 - val_accuracy: 0.8112\n",
            "Epoch 35/50\n",
            "782/782 [==============================] - 8s 11ms/step - loss: 0.3785 - accuracy: 0.8669 - val_loss: 0.5231 - val_accuracy: 0.8257\n",
            "Epoch 36/50\n",
            "782/782 [==============================] - 9s 11ms/step - loss: 0.3672 - accuracy: 0.8694 - val_loss: 0.5271 - val_accuracy: 0.8206\n",
            "Epoch 37/50\n",
            "782/782 [==============================] - 9s 11ms/step - loss: 0.3639 - accuracy: 0.8720 - val_loss: 0.5174 - val_accuracy: 0.8245\n",
            "Epoch 38/50\n",
            "782/782 [==============================] - 12s 15ms/step - loss: 0.3567 - accuracy: 0.8740 - val_loss: 0.5285 - val_accuracy: 0.8228\n",
            "Epoch 39/50\n",
            "782/782 [==============================] - 10s 13ms/step - loss: 0.3430 - accuracy: 0.8779 - val_loss: 0.5078 - val_accuracy: 0.8306\n",
            "Epoch 40/50\n",
            "782/782 [==============================] - 9s 11ms/step - loss: 0.3404 - accuracy: 0.8782 - val_loss: 0.5113 - val_accuracy: 0.8300\n",
            "Epoch 41/50\n",
            "782/782 [==============================] - 10s 12ms/step - loss: 0.3300 - accuracy: 0.8816 - val_loss: 0.5089 - val_accuracy: 0.8304\n",
            "Epoch 42/50\n",
            "782/782 [==============================] - 9s 12ms/step - loss: 0.3266 - accuracy: 0.8814 - val_loss: 0.5151 - val_accuracy: 0.8306\n",
            "Epoch 43/50\n",
            "782/782 [==============================] - 9s 11ms/step - loss: 0.3165 - accuracy: 0.8860 - val_loss: 0.5088 - val_accuracy: 0.8361\n",
            "Epoch 44/50\n",
            "782/782 [==============================] - 9s 12ms/step - loss: 0.3120 - accuracy: 0.8887 - val_loss: 0.5528 - val_accuracy: 0.8209\n",
            "Epoch 45/50\n",
            "782/782 [==============================] - 10s 13ms/step - loss: 0.3052 - accuracy: 0.8906 - val_loss: 0.5192 - val_accuracy: 0.8303\n",
            "Epoch 46/50\n",
            "782/782 [==============================] - 11s 14ms/step - loss: 0.3036 - accuracy: 0.8898 - val_loss: 0.5249 - val_accuracy: 0.8276\n",
            "Epoch 47/50\n",
            "782/782 [==============================] - 12s 15ms/step - loss: 0.2950 - accuracy: 0.8948 - val_loss: 0.5060 - val_accuracy: 0.8357\n",
            "Epoch 48/50\n",
            "782/782 [==============================] - 11s 14ms/step - loss: 0.2869 - accuracy: 0.8971 - val_loss: 0.5246 - val_accuracy: 0.8304\n",
            "Epoch 49/50\n",
            "782/782 [==============================] - 10s 13ms/step - loss: 0.2776 - accuracy: 0.9015 - val_loss: 0.5149 - val_accuracy: 0.8355\n",
            "Epoch 50/50\n",
            "782/782 [==============================] - 10s 12ms/step - loss: 0.2798 - accuracy: 0.8998 - val_loss: 0.5168 - val_accuracy: 0.8360\n",
            "Test loss: 0.516810417175293\n",
            "Test accuracy: 0.8360000252723694\n"
          ]
        }
      ]
    },
    {
      "cell_type": "markdown",
      "source": [
        "## Case-B"
      ],
      "metadata": {
        "id": "xImP7omSOkwu"
      }
    },
    {
      "cell_type": "code",
      "source": [
        "from tensorflow import keras\n",
        "from keras.datasets import cifar10\n",
        "from keras.models import Sequential\n",
        "from keras.layers import Dense, Conv2D, MaxPooling2D, AveragePooling2D, Flatten, Dropout, BatchNormalization, Activation\n",
        "from keras import backend as K\n",
        "from tensorflow.keras.utils import to_categorical"
      ],
      "metadata": {
        "id": "7Z16c8UePF3Z"
      },
      "execution_count": 1,
      "outputs": []
    },
    {
      "cell_type": "code",
      "source": [
        "batch_size = 64\n",
        "num_classes = 10\n",
        "epochs = 50"
      ],
      "metadata": {
        "id": "qYOPUGmbOD39"
      },
      "execution_count": 2,
      "outputs": []
    },
    {
      "cell_type": "code",
      "source": [
        "#  input image dimensions\n",
        "img_rows, img_cols = 32, 32\n",
        "# the data, split between train and test sets\n",
        "(x_train, y_train), (x_test, y_test) = cifar10.load_data()\n",
        "if K.image_data_format() == 'channels_first':\n",
        "  x_train = x_train.reshape(x_train.shape[0], 3, img_rows, img_cols)\n",
        "  x_test = x_test.reshape(x_test.shape[0], 3, img_rows, img_cols)\n",
        "  input_shape = (3, img_rows, img_cols)\n",
        "else:\n",
        "  x_train = x_train.reshape(x_train.shape[0], img_rows, img_cols, 3)\n",
        "  x_test = x_test.reshape(x_test.shape[0], img_rows, img_cols, 3)\n",
        "  input_shape = (img_rows, img_cols, 3)"
      ],
      "metadata": {
        "colab": {
          "base_uri": "https://localhost:8080/"
        },
        "id": "7Aye8qTeOGWX",
        "outputId": "352aae8a-0be1-4cbd-b852-1d2a85367586"
      },
      "execution_count": 3,
      "outputs": [
        {
          "output_type": "stream",
          "name": "stdout",
          "text": [
            "Downloading data from https://www.cs.toronto.edu/~kriz/cifar-10-python.tar.gz\n",
            "170498071/170498071 [==============================] - 3s 0us/step\n"
          ]
        }
      ]
    },
    {
      "cell_type": "code",
      "source": [
        "x_train = x_train.astype('float32')\n",
        "x_test = x_test.astype('float32')\n",
        "x_train /= 255\n",
        "x_test /= 255\n",
        "print('x_train shape:', x_train.shape)\n",
        "print(x_train.shape[0], 'training samples')\n",
        "print(x_test.shape[0], 'testing samples')\n",
        "\n",
        "# convert class vectors to binary class matrices\n",
        "y_train = to_categorical(y_train, num_classes)\n",
        "y_test = to_categorical(y_test, num_classes)"
      ],
      "metadata": {
        "colab": {
          "base_uri": "https://localhost:8080/"
        },
        "id": "tJmtPPuoOJlN",
        "outputId": "d532c81f-08fc-4adb-e525-243e8d24b3ff"
      },
      "execution_count": 4,
      "outputs": [
        {
          "output_type": "stream",
          "name": "stdout",
          "text": [
            "x_train shape: (50000, 32, 32, 3)\n",
            "50000 training samples\n",
            "10000 testing samples\n"
          ]
        }
      ]
    },
    {
      "cell_type": "code",
      "source": [
        "model = Sequential()\n",
        "model.add(Conv2D(filters = 32, kernel_size = (7,7), padding='same', input_shape = input_shape))\n",
        "model.add(Activation('relu'))\n",
        "model.add(BatchNormalization())\n",
        "model.add(Conv2D(filters = 32, kernel_size = (3,3), padding='same'))\n",
        "model.add(Activation('relu'))\n",
        "model.add(BatchNormalization())\n",
        "model.add(MaxPooling2D(2,2))\n",
        "model.add(Dropout(0.2))\n",
        "\n",
        "model.add(Conv2D(filters = 64, kernel_size = (3,3), padding='same'))\n",
        "model.add(Activation('relu'))\n",
        "model.add(BatchNormalization())\n",
        "model.add(Conv2D(filters = 64, kernel_size = (3,3), padding='same'))\n",
        "model.add(Activation('relu'))\n",
        "model.add(BatchNormalization())\n",
        "model.add(MaxPooling2D(2,2))\n",
        "model.add(Dropout(0.3))\n",
        "\n",
        "model.add(Conv2D(filters = 128, kernel_size = (3,3), padding='same'))\n",
        "model.add(Activation('relu'))\n",
        "model.add(BatchNormalization())\n",
        "model.add(Conv2D(filters = 128, kernel_size = (3,3), padding='same'))\n",
        "model.add(Activation('relu'))\n",
        "model.add(BatchNormalization())\n",
        "model.add(MaxPooling2D(2,2))\n",
        "model.add(Dropout(0.4))\n",
        "\n",
        "model.add(Flatten())\n",
        "\n",
        "model.add(Dense(units = 10, activation = 'softmax'))"
      ],
      "metadata": {
        "id": "lH6odkLzOMFn"
      },
      "execution_count": 5,
      "outputs": []
    },
    {
      "cell_type": "code",
      "source": [
        "# https://keras.io/optimizers/\n",
        "model.compile(loss=keras.losses.categorical_crossentropy, optimizer=keras.optimizers.Adam(lr=0.01), metrics=['accuracy'])"
      ],
      "metadata": {
        "colab": {
          "base_uri": "https://localhost:8080/"
        },
        "id": "wS6VTwuxOWiN",
        "outputId": "58d3bcb6-5951-4933-b93e-93e448286d14"
      },
      "execution_count": 6,
      "outputs": [
        {
          "output_type": "stream",
          "name": "stderr",
          "text": [
            "/usr/local/lib/python3.8/dist-packages/keras/optimizers/optimizer_v2/adam.py:110: UserWarning: The `lr` argument is deprecated, use `learning_rate` instead.\n",
            "  super(Adam, self).__init__(name, **kwargs)\n"
          ]
        }
      ]
    },
    {
      "cell_type": "code",
      "source": [
        "model.fit(x_train, y_train, batch_size=batch_size, epochs=epochs, verbose=1, validation_data=(x_test, y_test))\n",
        "score = model.evaluate(x_test, y_test, verbose=0)\n",
        "print('Test loss:', score[0])\n",
        "print('Test accuracy:', score[1])"
      ],
      "metadata": {
        "colab": {
          "base_uri": "https://localhost:8080/"
        },
        "id": "0kvBgTVPOZY7",
        "outputId": "bf5c37f5-2836-46d2-b4f8-22151cc83479"
      },
      "execution_count": 51,
      "outputs": [
        {
          "output_type": "stream",
          "name": "stdout",
          "text": [
            "Epoch 1/50\n",
            "196/196 [==============================] - 6s 31ms/step - loss: 0.2493 - accuracy: 0.9119 - val_loss: 0.5910 - val_accuracy: 0.8409\n",
            "Epoch 2/50\n",
            "196/196 [==============================] - 6s 31ms/step - loss: 0.2476 - accuracy: 0.9124 - val_loss: 0.5437 - val_accuracy: 0.8389\n",
            "Epoch 3/50\n",
            "196/196 [==============================] - 7s 35ms/step - loss: 0.2403 - accuracy: 0.9134 - val_loss: 0.5492 - val_accuracy: 0.8486\n",
            "Epoch 4/50\n",
            "196/196 [==============================] - 7s 34ms/step - loss: 0.2418 - accuracy: 0.9142 - val_loss: 0.5694 - val_accuracy: 0.8499\n",
            "Epoch 5/50\n",
            "196/196 [==============================] - 6s 32ms/step - loss: 0.2408 - accuracy: 0.9151 - val_loss: 0.6163 - val_accuracy: 0.8394\n",
            "Epoch 6/50\n",
            "196/196 [==============================] - 6s 32ms/step - loss: 0.2355 - accuracy: 0.9155 - val_loss: 0.5571 - val_accuracy: 0.8473\n",
            "Epoch 7/50\n",
            "196/196 [==============================] - 6s 31ms/step - loss: 0.2312 - accuracy: 0.9180 - val_loss: 0.6409 - val_accuracy: 0.8352\n",
            "Epoch 8/50\n",
            "196/196 [==============================] - 6s 31ms/step - loss: 0.2287 - accuracy: 0.9191 - val_loss: 0.5638 - val_accuracy: 0.8451\n",
            "Epoch 9/50\n",
            "196/196 [==============================] - 6s 31ms/step - loss: 0.2259 - accuracy: 0.9214 - val_loss: 0.5522 - val_accuracy: 0.8456\n",
            "Epoch 10/50\n",
            "196/196 [==============================] - 6s 30ms/step - loss: 0.2237 - accuracy: 0.9216 - val_loss: 0.6014 - val_accuracy: 0.8469\n",
            "Epoch 11/50\n",
            "196/196 [==============================] - 6s 30ms/step - loss: 0.2229 - accuracy: 0.9219 - val_loss: 0.6139 - val_accuracy: 0.8435\n",
            "Epoch 12/50\n",
            "196/196 [==============================] - 6s 31ms/step - loss: 0.2213 - accuracy: 0.9215 - val_loss: 0.6483 - val_accuracy: 0.8347\n",
            "Epoch 13/50\n",
            "196/196 [==============================] - 6s 30ms/step - loss: 0.2213 - accuracy: 0.9218 - val_loss: 0.5670 - val_accuracy: 0.8500\n",
            "Epoch 14/50\n",
            "196/196 [==============================] - 6s 31ms/step - loss: 0.2251 - accuracy: 0.9213 - val_loss: 0.5546 - val_accuracy: 0.8508\n",
            "Epoch 15/50\n",
            "196/196 [==============================] - 6s 32ms/step - loss: 0.2133 - accuracy: 0.9245 - val_loss: 0.6153 - val_accuracy: 0.8381\n",
            "Epoch 16/50\n",
            "196/196 [==============================] - 6s 33ms/step - loss: 0.2149 - accuracy: 0.9247 - val_loss: 0.5940 - val_accuracy: 0.8493\n",
            "Epoch 17/50\n",
            "196/196 [==============================] - 6s 33ms/step - loss: 0.2157 - accuracy: 0.9242 - val_loss: 0.6143 - val_accuracy: 0.8421\n",
            "Epoch 18/50\n",
            "196/196 [==============================] - 6s 33ms/step - loss: 0.2145 - accuracy: 0.9243 - val_loss: 0.5948 - val_accuracy: 0.8513\n",
            "Epoch 19/50\n",
            "196/196 [==============================] - 6s 33ms/step - loss: 0.2105 - accuracy: 0.9250 - val_loss: 0.5664 - val_accuracy: 0.8537\n",
            "Epoch 20/50\n",
            "196/196 [==============================] - 6s 32ms/step - loss: 0.1979 - accuracy: 0.9307 - val_loss: 0.5765 - val_accuracy: 0.8491\n",
            "Epoch 21/50\n",
            "196/196 [==============================] - 6s 31ms/step - loss: 0.2065 - accuracy: 0.9278 - val_loss: 0.6286 - val_accuracy: 0.8439\n",
            "Epoch 22/50\n",
            "196/196 [==============================] - 6s 31ms/step - loss: 0.2016 - accuracy: 0.9304 - val_loss: 0.6759 - val_accuracy: 0.8382\n",
            "Epoch 23/50\n",
            "196/196 [==============================] - 6s 31ms/step - loss: 0.2039 - accuracy: 0.9286 - val_loss: 0.6205 - val_accuracy: 0.8459\n",
            "Epoch 24/50\n",
            "196/196 [==============================] - 6s 31ms/step - loss: 0.1989 - accuracy: 0.9297 - val_loss: 0.5936 - val_accuracy: 0.8519\n",
            "Epoch 25/50\n",
            "196/196 [==============================] - 6s 31ms/step - loss: 0.2005 - accuracy: 0.9309 - val_loss: 0.5835 - val_accuracy: 0.8492\n",
            "Epoch 26/50\n",
            "196/196 [==============================] - 6s 31ms/step - loss: 0.1949 - accuracy: 0.9324 - val_loss: 0.6077 - val_accuracy: 0.8508\n",
            "Epoch 27/50\n",
            "196/196 [==============================] - 6s 32ms/step - loss: 0.1901 - accuracy: 0.9324 - val_loss: 0.6454 - val_accuracy: 0.8474\n",
            "Epoch 28/50\n",
            "196/196 [==============================] - 6s 30ms/step - loss: 0.1892 - accuracy: 0.9335 - val_loss: 0.5852 - val_accuracy: 0.8546\n",
            "Epoch 29/50\n",
            "196/196 [==============================] - 6s 30ms/step - loss: 0.1977 - accuracy: 0.9313 - val_loss: 0.6554 - val_accuracy: 0.8366\n",
            "Epoch 30/50\n",
            "196/196 [==============================] - 6s 32ms/step - loss: 0.1860 - accuracy: 0.9338 - val_loss: 0.5744 - val_accuracy: 0.8558\n",
            "Epoch 31/50\n",
            "196/196 [==============================] - 6s 31ms/step - loss: 0.1913 - accuracy: 0.9336 - val_loss: 0.6540 - val_accuracy: 0.8447\n",
            "Epoch 32/50\n",
            "196/196 [==============================] - 6s 32ms/step - loss: 0.1943 - accuracy: 0.9326 - val_loss: 0.6118 - val_accuracy: 0.8544\n",
            "Epoch 33/50\n",
            "196/196 [==============================] - 6s 31ms/step - loss: 0.1837 - accuracy: 0.9351 - val_loss: 0.6064 - val_accuracy: 0.8502\n",
            "Epoch 34/50\n",
            "196/196 [==============================] - 7s 34ms/step - loss: 0.1815 - accuracy: 0.9375 - val_loss: 0.6895 - val_accuracy: 0.8435\n",
            "Epoch 35/50\n",
            "196/196 [==============================] - 6s 32ms/step - loss: 0.1831 - accuracy: 0.9359 - val_loss: 0.6230 - val_accuracy: 0.8436\n",
            "Epoch 36/50\n",
            "196/196 [==============================] - 6s 31ms/step - loss: 0.1883 - accuracy: 0.9340 - val_loss: 0.7215 - val_accuracy: 0.8374\n",
            "Epoch 37/50\n",
            "196/196 [==============================] - 6s 31ms/step - loss: 0.1810 - accuracy: 0.9370 - val_loss: 0.6426 - val_accuracy: 0.8499\n",
            "Epoch 38/50\n",
            "196/196 [==============================] - 6s 31ms/step - loss: 0.1800 - accuracy: 0.9366 - val_loss: 0.6659 - val_accuracy: 0.8396\n",
            "Epoch 39/50\n",
            "196/196 [==============================] - 6s 31ms/step - loss: 0.1865 - accuracy: 0.9356 - val_loss: 0.6451 - val_accuracy: 0.8478\n",
            "Epoch 40/50\n",
            "196/196 [==============================] - 6s 32ms/step - loss: 0.1860 - accuracy: 0.9355 - val_loss: 0.6585 - val_accuracy: 0.8506\n",
            "Epoch 41/50\n",
            "196/196 [==============================] - 6s 31ms/step - loss: 0.1805 - accuracy: 0.9382 - val_loss: 0.6560 - val_accuracy: 0.8546\n",
            "Epoch 42/50\n",
            "196/196 [==============================] - 6s 32ms/step - loss: 0.1789 - accuracy: 0.9375 - val_loss: 0.6663 - val_accuracy: 0.8406\n",
            "Epoch 43/50\n",
            "196/196 [==============================] - 6s 31ms/step - loss: 0.1780 - accuracy: 0.9390 - val_loss: 0.5984 - val_accuracy: 0.8560\n",
            "Epoch 44/50\n",
            "196/196 [==============================] - 6s 31ms/step - loss: 0.1670 - accuracy: 0.9415 - val_loss: 0.6945 - val_accuracy: 0.8474\n",
            "Epoch 45/50\n",
            "196/196 [==============================] - 6s 31ms/step - loss: 0.1721 - accuracy: 0.9414 - val_loss: 0.6490 - val_accuracy: 0.8524\n",
            "Epoch 46/50\n",
            "196/196 [==============================] - 6s 33ms/step - loss: 0.1708 - accuracy: 0.9409 - val_loss: 0.6169 - val_accuracy: 0.8543\n",
            "Epoch 47/50\n",
            "196/196 [==============================] - 6s 33ms/step - loss: 0.1779 - accuracy: 0.9386 - val_loss: 0.6640 - val_accuracy: 0.8451\n",
            "Epoch 48/50\n",
            "196/196 [==============================] - 7s 34ms/step - loss: 0.1741 - accuracy: 0.9398 - val_loss: 0.6281 - val_accuracy: 0.8591\n",
            "Epoch 49/50\n",
            "196/196 [==============================] - 6s 31ms/step - loss: 0.1674 - accuracy: 0.9423 - val_loss: 0.7467 - val_accuracy: 0.8410\n",
            "Epoch 50/50\n",
            "196/196 [==============================] - 6s 31ms/step - loss: 0.1699 - accuracy: 0.9414 - val_loss: 0.6492 - val_accuracy: 0.8540\n",
            "Test loss: 0.6492162942886353\n",
            "Test accuracy: 0.8539999723434448\n"
          ]
        }
      ]
    },
    {
      "cell_type": "markdown",
      "source": [
        "## Case-C"
      ],
      "metadata": {
        "id": "HXKeiRjgQtoe"
      }
    },
    {
      "cell_type": "code",
      "source": [
        "from tensorflow import keras\n",
        "from keras.datasets import cifar10\n",
        "from keras.models import Sequential\n",
        "from keras.layers import Dense, Conv2D, MaxPooling2D, AveragePooling2D, Flatten, Dropout, BatchNormalization, Activation\n",
        "from keras import backend as K\n",
        "from tensorflow.keras.utils import to_categorical"
      ],
      "metadata": {
        "id": "eZeqTIxSOeDJ"
      },
      "execution_count": 8,
      "outputs": []
    },
    {
      "cell_type": "code",
      "source": [
        "batch_size = 64\n",
        "num_classes = 10\n",
        "epochs = 50"
      ],
      "metadata": {
        "id": "L4Asm72sPIgi"
      },
      "execution_count": 9,
      "outputs": []
    },
    {
      "cell_type": "code",
      "source": [
        "#  input image dimensions\n",
        "img_rows, img_cols = 32, 32\n",
        "# the data, split between train and test sets\n",
        "(x_train, y_train), (x_test, y_test) = cifar10.load_data()\n",
        "if K.image_data_format() == 'channels_first':\n",
        "  x_train = x_train.reshape(x_train.shape[0], 3, img_rows, img_cols)\n",
        "  x_test = x_test.reshape(x_test.shape[0], 3, img_rows, img_cols)\n",
        "  input_shape = (3, img_rows, img_cols)\n",
        "else:\n",
        "  x_train = x_train.reshape(x_train.shape[0], img_rows, img_cols, 3)\n",
        "  x_test = x_test.reshape(x_test.shape[0], img_rows, img_cols, 3)\n",
        "  input_shape = (img_rows, img_cols, 3)"
      ],
      "metadata": {
        "id": "uhAUB7PDPKhw"
      },
      "execution_count": 10,
      "outputs": []
    },
    {
      "cell_type": "code",
      "source": [
        "x_train = x_train.astype('float32')\n",
        "x_test = x_test.astype('float32')\n",
        "x_train /= 255\n",
        "x_test /= 255\n",
        "print('x_train shape:', x_train.shape)\n",
        "print(x_train.shape[0], 'training samples')\n",
        "print(x_test.shape[0], 'testing samples')\n",
        "\n",
        "# convert class vectors to binary class matrices\n",
        "y_train = to_categorical(y_train, num_classes)\n",
        "y_test = to_categorical(y_test, num_classes)"
      ],
      "metadata": {
        "colab": {
          "base_uri": "https://localhost:8080/"
        },
        "id": "5xVn201xPObM",
        "outputId": "10a8c7e1-67a7-4b70-a2a8-04832a55fda1"
      },
      "execution_count": 11,
      "outputs": [
        {
          "output_type": "stream",
          "name": "stdout",
          "text": [
            "x_train shape: (50000, 32, 32, 3)\n",
            "50000 training samples\n",
            "10000 testing samples\n"
          ]
        }
      ]
    },
    {
      "cell_type": "code",
      "source": [
        "model = Sequential()\n",
        "model.add(Conv2D(filters = 32, kernel_size = (3,3), padding='same', input_shape = input_shape))\n",
        "model.add(Activation('relu'))\n",
        "model.add(BatchNormalization())\n",
        "model.add(Conv2D(filters = 32, kernel_size = (3,3), padding='same'))\n",
        "model.add(Activation('relu'))\n",
        "model.add(BatchNormalization())\n",
        "model.add(MaxPooling2D(2,2))\n",
        "model.add(Dropout(0.2))\n",
        "\n",
        "model.add(Conv2D(filters = 64, kernel_size = (3,3), padding='same'))\n",
        "model.add(Activation('relu'))\n",
        "model.add(BatchNormalization())\n",
        "model.add(Conv2D(filters = 64, kernel_size = (3,3), padding='same'))\n",
        "model.add(Activation('relu'))\n",
        "model.add(BatchNormalization())\n",
        "model.add(MaxPooling2D(2,2))\n",
        "model.add(Dropout(0.3))\n",
        "\n",
        "model.add(Conv2D(filters = 128, kernel_size = (3,3), padding='same'))\n",
        "model.add(Activation('relu'))\n",
        "model.add(BatchNormalization())\n",
        "model.add(Conv2D(filters = 128, kernel_size = (3,3), padding='same'))\n",
        "model.add(Activation('relu'))\n",
        "model.add(BatchNormalization())\n",
        "model.add(MaxPooling2D(2,2))\n",
        "model.add(Dropout(0.4))\n",
        "\n",
        "model.add(Flatten())\n",
        "\n",
        "model.add(Dense(units = 10, activation = 'softmax'))"
      ],
      "metadata": {
        "id": "vxTg4Po7PSif"
      },
      "execution_count": 12,
      "outputs": []
    },
    {
      "cell_type": "code",
      "source": [
        "# https://keras.io/optimizers/\n",
        "model.compile(loss=keras.losses.categorical_crossentropy, optimizer=keras.optimizers.RMSprop(lr=0.01), metrics=['accuracy'])"
      ],
      "metadata": {
        "colab": {
          "base_uri": "https://localhost:8080/"
        },
        "id": "Nku2Nv4gQgeT",
        "outputId": "59689f0d-6928-4295-d4e0-7e0afe337e8d"
      },
      "execution_count": 13,
      "outputs": [
        {
          "output_type": "stream",
          "name": "stderr",
          "text": [
            "/usr/local/lib/python3.8/dist-packages/keras/optimizers/optimizer_v2/rmsprop.py:135: UserWarning: The `lr` argument is deprecated, use `learning_rate` instead.\n",
            "  super(RMSprop, self).__init__(name, **kwargs)\n"
          ]
        }
      ]
    },
    {
      "cell_type": "code",
      "source": [
        "model.fit(x_train, y_train, batch_size=batch_size, epochs=epochs, verbose=1, validation_data=(x_test, y_test))\n",
        "score = model.evaluate(x_test, y_test, verbose=0)\n",
        "print('Test loss:', score[0])\n",
        "print('Test accuracy:', score[1])"
      ],
      "metadata": {
        "colab": {
          "base_uri": "https://localhost:8080/"
        },
        "id": "PXQ-p0k0QpVJ",
        "outputId": "c0e7b3dd-f73c-40e0-d075-4b23c9528ef8"
      },
      "execution_count": 22,
      "outputs": [
        {
          "output_type": "stream",
          "name": "stdout",
          "text": [
            "Epoch 1/50\n",
            "782/782 [==============================] - 10s 13ms/step - loss: 0.2765 - accuracy: 0.9006 - val_loss: 0.5191 - val_accuracy: 0.8351\n",
            "Epoch 2/50\n",
            "782/782 [==============================] - 10s 13ms/step - loss: 0.2696 - accuracy: 0.9028 - val_loss: 0.5070 - val_accuracy: 0.8368\n",
            "Epoch 3/50\n",
            "782/782 [==============================] - 9s 11ms/step - loss: 0.2643 - accuracy: 0.9050 - val_loss: 0.5317 - val_accuracy: 0.8336\n",
            "Epoch 4/50\n",
            "782/782 [==============================] - 12s 15ms/step - loss: 0.2554 - accuracy: 0.9093 - val_loss: 0.5531 - val_accuracy: 0.8302\n",
            "Epoch 5/50\n",
            "782/782 [==============================] - 8s 11ms/step - loss: 0.2525 - accuracy: 0.9084 - val_loss: 0.5177 - val_accuracy: 0.8381\n",
            "Epoch 6/50\n",
            "782/782 [==============================] - 8s 10ms/step - loss: 0.2520 - accuracy: 0.9099 - val_loss: 0.5275 - val_accuracy: 0.8372\n",
            "Epoch 7/50\n",
            "782/782 [==============================] - 8s 10ms/step - loss: 0.2445 - accuracy: 0.9126 - val_loss: 0.5182 - val_accuracy: 0.8402\n",
            "Epoch 8/50\n",
            "782/782 [==============================] - 8s 10ms/step - loss: 0.2427 - accuracy: 0.9115 - val_loss: 0.5132 - val_accuracy: 0.8432\n",
            "Epoch 9/50\n",
            "782/782 [==============================] - 8s 11ms/step - loss: 0.2410 - accuracy: 0.9125 - val_loss: 0.5184 - val_accuracy: 0.8440\n",
            "Epoch 10/50\n",
            "782/782 [==============================] - 8s 10ms/step - loss: 0.2341 - accuracy: 0.9158 - val_loss: 0.5195 - val_accuracy: 0.8408\n",
            "Epoch 11/50\n",
            "782/782 [==============================] - 8s 10ms/step - loss: 0.2332 - accuracy: 0.9153 - val_loss: 0.5452 - val_accuracy: 0.8341\n",
            "Epoch 12/50\n",
            "782/782 [==============================] - 8s 10ms/step - loss: 0.2251 - accuracy: 0.9188 - val_loss: 0.5188 - val_accuracy: 0.8428\n",
            "Epoch 13/50\n",
            "782/782 [==============================] - 8s 11ms/step - loss: 0.2245 - accuracy: 0.9187 - val_loss: 0.5413 - val_accuracy: 0.8381\n",
            "Epoch 14/50\n",
            "782/782 [==============================] - 9s 11ms/step - loss: 0.2162 - accuracy: 0.9218 - val_loss: 0.5338 - val_accuracy: 0.8424\n",
            "Epoch 15/50\n",
            "782/782 [==============================] - 8s 11ms/step - loss: 0.2157 - accuracy: 0.9221 - val_loss: 0.5618 - val_accuracy: 0.8356\n",
            "Epoch 16/50\n",
            "782/782 [==============================] - 8s 11ms/step - loss: 0.2171 - accuracy: 0.9220 - val_loss: 0.5294 - val_accuracy: 0.8415\n",
            "Epoch 17/50\n",
            "782/782 [==============================] - 8s 10ms/step - loss: 0.2116 - accuracy: 0.9228 - val_loss: 0.5362 - val_accuracy: 0.8436\n",
            "Epoch 18/50\n",
            "782/782 [==============================] - 8s 10ms/step - loss: 0.2101 - accuracy: 0.9230 - val_loss: 0.5347 - val_accuracy: 0.8432\n",
            "Epoch 19/50\n",
            "782/782 [==============================] - 9s 11ms/step - loss: 0.2056 - accuracy: 0.9247 - val_loss: 0.5408 - val_accuracy: 0.8399\n",
            "Epoch 20/50\n",
            "782/782 [==============================] - 9s 11ms/step - loss: 0.2042 - accuracy: 0.9255 - val_loss: 0.5214 - val_accuracy: 0.8469\n",
            "Epoch 21/50\n",
            "782/782 [==============================] - 9s 11ms/step - loss: 0.2003 - accuracy: 0.9280 - val_loss: 0.5548 - val_accuracy: 0.8391\n",
            "Epoch 22/50\n",
            "782/782 [==============================] - 8s 11ms/step - loss: 0.2018 - accuracy: 0.9266 - val_loss: 0.5551 - val_accuracy: 0.8406\n",
            "Epoch 23/50\n",
            "782/782 [==============================] - 8s 11ms/step - loss: 0.1931 - accuracy: 0.9296 - val_loss: 0.5555 - val_accuracy: 0.8401\n",
            "Epoch 24/50\n",
            "782/782 [==============================] - 9s 12ms/step - loss: 0.1906 - accuracy: 0.9310 - val_loss: 0.5372 - val_accuracy: 0.8467\n",
            "Epoch 25/50\n",
            "782/782 [==============================] - 9s 11ms/step - loss: 0.1943 - accuracy: 0.9304 - val_loss: 0.5669 - val_accuracy: 0.8359\n",
            "Epoch 26/50\n",
            "782/782 [==============================] - 10s 12ms/step - loss: 0.1873 - accuracy: 0.9320 - val_loss: 0.5250 - val_accuracy: 0.8473\n",
            "Epoch 27/50\n",
            "782/782 [==============================] - 8s 11ms/step - loss: 0.1901 - accuracy: 0.9312 - val_loss: 0.5385 - val_accuracy: 0.8459\n",
            "Epoch 28/50\n",
            "782/782 [==============================] - 9s 11ms/step - loss: 0.1815 - accuracy: 0.9346 - val_loss: 0.5317 - val_accuracy: 0.8474\n",
            "Epoch 29/50\n",
            "782/782 [==============================] - 9s 11ms/step - loss: 0.1819 - accuracy: 0.9343 - val_loss: 0.5490 - val_accuracy: 0.8445\n",
            "Epoch 30/50\n",
            "782/782 [==============================] - 8s 11ms/step - loss: 0.1825 - accuracy: 0.9346 - val_loss: 0.5536 - val_accuracy: 0.8465\n",
            "Epoch 31/50\n",
            "782/782 [==============================] - 8s 11ms/step - loss: 0.1751 - accuracy: 0.9361 - val_loss: 0.5420 - val_accuracy: 0.8458\n",
            "Epoch 32/50\n",
            "782/782 [==============================] - 8s 11ms/step - loss: 0.1746 - accuracy: 0.9369 - val_loss: 0.5600 - val_accuracy: 0.8404\n",
            "Epoch 33/50\n",
            "782/782 [==============================] - 9s 11ms/step - loss: 0.1740 - accuracy: 0.9368 - val_loss: 0.5278 - val_accuracy: 0.8502\n",
            "Epoch 34/50\n",
            "782/782 [==============================] - 9s 11ms/step - loss: 0.1667 - accuracy: 0.9394 - val_loss: 0.5668 - val_accuracy: 0.8438\n",
            "Epoch 35/50\n",
            "782/782 [==============================] - 9s 11ms/step - loss: 0.1738 - accuracy: 0.9375 - val_loss: 0.5597 - val_accuracy: 0.8445\n",
            "Epoch 36/50\n",
            "782/782 [==============================] - 9s 11ms/step - loss: 0.1729 - accuracy: 0.9373 - val_loss: 0.5485 - val_accuracy: 0.8500\n",
            "Epoch 37/50\n",
            "782/782 [==============================] - 9s 11ms/step - loss: 0.1673 - accuracy: 0.9388 - val_loss: 0.5669 - val_accuracy: 0.8438\n",
            "Epoch 38/50\n",
            "782/782 [==============================] - 9s 11ms/step - loss: 0.1664 - accuracy: 0.9395 - val_loss: 0.5554 - val_accuracy: 0.8503\n",
            "Epoch 39/50\n",
            "782/782 [==============================] - 8s 11ms/step - loss: 0.1643 - accuracy: 0.9418 - val_loss: 0.5592 - val_accuracy: 0.8477\n",
            "Epoch 40/50\n",
            "782/782 [==============================] - 8s 11ms/step - loss: 0.1665 - accuracy: 0.9399 - val_loss: 0.5485 - val_accuracy: 0.8493\n",
            "Epoch 41/50\n",
            "782/782 [==============================] - 8s 11ms/step - loss: 0.1607 - accuracy: 0.9411 - val_loss: 0.5253 - val_accuracy: 0.8550\n",
            "Epoch 42/50\n",
            "782/782 [==============================] - 9s 11ms/step - loss: 0.1551 - accuracy: 0.9436 - val_loss: 0.5492 - val_accuracy: 0.8482\n",
            "Epoch 43/50\n",
            "782/782 [==============================] - 9s 11ms/step - loss: 0.1577 - accuracy: 0.9423 - val_loss: 0.5619 - val_accuracy: 0.8465\n",
            "Epoch 44/50\n",
            "782/782 [==============================] - 10s 12ms/step - loss: 0.1568 - accuracy: 0.9427 - val_loss: 0.5510 - val_accuracy: 0.8491\n",
            "Epoch 45/50\n",
            "782/782 [==============================] - 9s 12ms/step - loss: 0.1536 - accuracy: 0.9445 - val_loss: 0.5761 - val_accuracy: 0.8457\n",
            "Epoch 46/50\n",
            "782/782 [==============================] - 10s 13ms/step - loss: 0.1502 - accuracy: 0.9459 - val_loss: 0.5771 - val_accuracy: 0.8482\n",
            "Epoch 47/50\n",
            "782/782 [==============================] - 11s 14ms/step - loss: 0.1533 - accuracy: 0.9447 - val_loss: 0.5533 - val_accuracy: 0.8458\n",
            "Epoch 48/50\n",
            "782/782 [==============================] - 9s 11ms/step - loss: 0.1520 - accuracy: 0.9452 - val_loss: 0.5426 - val_accuracy: 0.8540\n",
            "Epoch 49/50\n",
            "782/782 [==============================] - 8s 11ms/step - loss: 0.1491 - accuracy: 0.9466 - val_loss: 0.5775 - val_accuracy: 0.8462\n",
            "Epoch 50/50\n",
            "782/782 [==============================] - 8s 11ms/step - loss: 0.1446 - accuracy: 0.9477 - val_loss: 0.5492 - val_accuracy: 0.8484\n",
            "Test loss: 0.5491887927055359\n",
            "Test accuracy: 0.8483999967575073\n"
          ]
        }
      ]
    },
    {
      "cell_type": "markdown",
      "source": [
        "## Case-D"
      ],
      "metadata": {
        "id": "AK0nzSdLRbc9"
      }
    },
    {
      "cell_type": "code",
      "source": [
        "from tensorflow import keras\n",
        "from keras.datasets import cifar10\n",
        "from keras.models import Sequential\n",
        "from keras.layers import Dense, Conv2D, MaxPooling2D, AveragePooling2D, Flatten, Dropout, BatchNormalization, Activation\n",
        "from keras import backend as K\n",
        "from tensorflow.keras.utils import to_categorical"
      ],
      "metadata": {
        "id": "_h68D6juQrCh"
      },
      "execution_count": 23,
      "outputs": []
    },
    {
      "cell_type": "code",
      "source": [
        "batch_size = 64\n",
        "num_classes = 10\n",
        "epochs = 50"
      ],
      "metadata": {
        "id": "Zgj922-WReeq"
      },
      "execution_count": 24,
      "outputs": []
    },
    {
      "cell_type": "code",
      "source": [
        "#  input image dimensions\n",
        "img_rows, img_cols = 32, 32\n",
        "# the data, split between train and test sets\n",
        "(x_train, y_train), (x_test, y_test) = cifar10.load_data()\n",
        "if K.image_data_format() == 'channels_first':\n",
        "  x_train = x_train.reshape(x_train.shape[0], 3, img_rows, img_cols)\n",
        "  x_test = x_test.reshape(x_test.shape[0], 3, img_rows, img_cols)\n",
        "  input_shape = (3, img_rows, img_cols)\n",
        "else:\n",
        "  x_train = x_train.reshape(x_train.shape[0], img_rows, img_cols, 3)\n",
        "  x_test = x_test.reshape(x_test.shape[0], img_rows, img_cols, 3)\n",
        "  input_shape = (img_rows, img_cols, 3)"
      ],
      "metadata": {
        "id": "eXNALiaORecF"
      },
      "execution_count": 25,
      "outputs": []
    },
    {
      "cell_type": "code",
      "source": [
        "x_train = x_train.astype('float32')\n",
        "x_test = x_test.astype('float32')\n",
        "x_train /= 255\n",
        "x_test /= 255\n",
        "print('x_train shape:', x_train.shape)\n",
        "print(x_train.shape[0], 'training samples')\n",
        "print(x_test.shape[0], 'testing samples')\n",
        "\n",
        "# convert class vectors to binary class matrices\n",
        "y_train = to_categorical(y_train, num_classes)\n",
        "y_test = to_categorical(y_test, num_classes)"
      ],
      "metadata": {
        "colab": {
          "base_uri": "https://localhost:8080/"
        },
        "id": "akG_XDfsReDA",
        "outputId": "b7bbb4ae-fd7b-411e-cb16-610dc1bd61ac"
      },
      "execution_count": 26,
      "outputs": [
        {
          "output_type": "stream",
          "name": "stdout",
          "text": [
            "x_train shape: (50000, 32, 32, 3)\n",
            "50000 training samples\n",
            "10000 testing samples\n"
          ]
        }
      ]
    },
    {
      "cell_type": "code",
      "source": [
        "model = Sequential()\n",
        "model.add(Conv2D(filters = 32, kernel_size = (3,3), padding='same', input_shape = input_shape))\n",
        "model.add(Activation('relu'))\n",
        "# model.add(BatchNormalization())\n",
        "model.add(Conv2D(filters = 32, kernel_size = (3,3), padding='same'))\n",
        "model.add(Activation('relu'))\n",
        "# model.add(BatchNormalization())\n",
        "model.add(MaxPooling2D(2,2))\n",
        "model.add(Dropout(0.2))\n",
        "\n",
        "model.add(Conv2D(filters = 64, kernel_size = (3,3), padding='same'))\n",
        "model.add(Activation('relu'))\n",
        "# model.add(BatchNormalization())\n",
        "model.add(Conv2D(filters = 64, kernel_size = (3,3), padding='same'))\n",
        "model.add(Activation('relu'))\n",
        "# model.add(BatchNormalization())\n",
        "model.add(MaxPooling2D(2,2))\n",
        "model.add(Dropout(0.3))\n",
        "\n",
        "model.add(Conv2D(filters = 128, kernel_size = (3,3), padding='same'))\n",
        "model.add(Activation('relu'))\n",
        "# model.add(BatchNormalization())\n",
        "model.add(Conv2D(filters = 128, kernel_size = (3,3), padding='same'))\n",
        "model.add(Activation('relu'))\n",
        "# model.add(BatchNormalization())\n",
        "model.add(MaxPooling2D(2,2))\n",
        "model.add(Dropout(0.4))\n",
        "\n",
        "model.add(Flatten())\n",
        "\n",
        "model.add(Dense(units = 10, activation = 'softmax'))"
      ],
      "metadata": {
        "id": "NboyrrmnRd59"
      },
      "execution_count": 27,
      "outputs": []
    },
    {
      "cell_type": "code",
      "source": [
        "# https://keras.io/optimizers/\n",
        "model.compile(loss=keras.losses.categorical_crossentropy, optimizer=keras.optimizers.Adam(lr=0.01), metrics=['accuracy'])"
      ],
      "metadata": {
        "id": "lte33JOCRd30"
      },
      "execution_count": 28,
      "outputs": []
    },
    {
      "cell_type": "code",
      "source": [
        "model.fit(x_train, y_train, batch_size=batch_size, epochs=epochs, verbose=1, validation_data=(x_test, y_test))\n",
        "score = model.evaluate(x_test, y_test, verbose=0)\n",
        "print('Test loss:', score[0])\n",
        "print('Test accuracy:', score[1])"
      ],
      "metadata": {
        "colab": {
          "base_uri": "https://localhost:8080/"
        },
        "id": "8lsDZdKFRd1m",
        "outputId": "825dccae-b07c-474d-9b58-170e91de07c7"
      },
      "execution_count": 29,
      "outputs": [
        {
          "output_type": "stream",
          "name": "stdout",
          "text": [
            "Epoch 1/50\n",
            "782/782 [==============================] - 8s 10ms/step - loss: 2.3273 - accuracy: 0.0992 - val_loss: 2.3041 - val_accuracy: 0.1000\n",
            "Epoch 2/50\n",
            "782/782 [==============================] - 7s 9ms/step - loss: 2.3037 - accuracy: 0.0976 - val_loss: 2.3030 - val_accuracy: 0.1000\n",
            "Epoch 3/50\n",
            "782/782 [==============================] - 7s 9ms/step - loss: 2.3037 - accuracy: 0.0990 - val_loss: 2.3036 - val_accuracy: 0.1000\n",
            "Epoch 4/50\n",
            "782/782 [==============================] - 7s 9ms/step - loss: 2.3037 - accuracy: 0.0997 - val_loss: 2.3039 - val_accuracy: 0.1000\n",
            "Epoch 5/50\n",
            "782/782 [==============================] - 7s 9ms/step - loss: 2.3036 - accuracy: 0.1013 - val_loss: 2.3032 - val_accuracy: 0.1000\n",
            "Epoch 6/50\n",
            "782/782 [==============================] - 7s 9ms/step - loss: 2.3036 - accuracy: 0.1007 - val_loss: 2.3038 - val_accuracy: 0.1000\n",
            "Epoch 7/50\n",
            "782/782 [==============================] - 7s 9ms/step - loss: 2.3036 - accuracy: 0.0999 - val_loss: 2.3035 - val_accuracy: 0.1000\n",
            "Epoch 8/50\n",
            "782/782 [==============================] - 7s 9ms/step - loss: 2.3036 - accuracy: 0.0995 - val_loss: 2.3034 - val_accuracy: 0.1000\n",
            "Epoch 9/50\n",
            "782/782 [==============================] - 7s 9ms/step - loss: 2.3035 - accuracy: 0.1017 - val_loss: 2.3031 - val_accuracy: 0.1000\n",
            "Epoch 10/50\n",
            "782/782 [==============================] - 7s 9ms/step - loss: 2.3036 - accuracy: 0.0986 - val_loss: 2.3030 - val_accuracy: 0.1000\n",
            "Epoch 11/50\n",
            "782/782 [==============================] - 7s 9ms/step - loss: 2.3035 - accuracy: 0.0986 - val_loss: 2.3034 - val_accuracy: 0.1000\n",
            "Epoch 12/50\n",
            "782/782 [==============================] - 7s 9ms/step - loss: 2.3037 - accuracy: 0.0979 - val_loss: 2.3045 - val_accuracy: 0.1000\n",
            "Epoch 13/50\n",
            "782/782 [==============================] - 7s 9ms/step - loss: 2.3036 - accuracy: 0.0981 - val_loss: 2.3035 - val_accuracy: 0.1000\n",
            "Epoch 14/50\n",
            "782/782 [==============================] - 7s 9ms/step - loss: 2.3037 - accuracy: 0.0982 - val_loss: 2.3031 - val_accuracy: 0.1000\n",
            "Epoch 15/50\n",
            "782/782 [==============================] - 7s 9ms/step - loss: 2.3034 - accuracy: 0.0992 - val_loss: 2.3036 - val_accuracy: 0.1000\n",
            "Epoch 16/50\n",
            "782/782 [==============================] - 7s 9ms/step - loss: 2.3037 - accuracy: 0.0980 - val_loss: 2.3037 - val_accuracy: 0.1000\n",
            "Epoch 17/50\n",
            "782/782 [==============================] - 7s 9ms/step - loss: 2.3036 - accuracy: 0.1013 - val_loss: 2.3029 - val_accuracy: 0.1000\n",
            "Epoch 18/50\n",
            "782/782 [==============================] - 7s 9ms/step - loss: 2.3037 - accuracy: 0.0986 - val_loss: 2.3031 - val_accuracy: 0.1000\n",
            "Epoch 19/50\n",
            "782/782 [==============================] - 7s 9ms/step - loss: 2.3038 - accuracy: 0.1000 - val_loss: 2.3036 - val_accuracy: 0.1000\n",
            "Epoch 20/50\n",
            "782/782 [==============================] - 7s 9ms/step - loss: 2.3036 - accuracy: 0.0989 - val_loss: 2.3032 - val_accuracy: 0.1000\n",
            "Epoch 21/50\n",
            "782/782 [==============================] - 7s 9ms/step - loss: 2.3035 - accuracy: 0.1000 - val_loss: 2.3034 - val_accuracy: 0.1000\n",
            "Epoch 22/50\n",
            "782/782 [==============================] - 7s 9ms/step - loss: 2.3038 - accuracy: 0.0966 - val_loss: 2.3031 - val_accuracy: 0.1000\n",
            "Epoch 23/50\n",
            "782/782 [==============================] - 7s 9ms/step - loss: 2.3037 - accuracy: 0.0991 - val_loss: 2.3033 - val_accuracy: 0.1000\n",
            "Epoch 24/50\n",
            "782/782 [==============================] - 7s 9ms/step - loss: 2.3038 - accuracy: 0.1004 - val_loss: 2.3028 - val_accuracy: 0.1000\n",
            "Epoch 25/50\n",
            "782/782 [==============================] - 7s 9ms/step - loss: 2.3035 - accuracy: 0.0998 - val_loss: 2.3034 - val_accuracy: 0.1000\n",
            "Epoch 26/50\n",
            "782/782 [==============================] - 7s 9ms/step - loss: 2.3035 - accuracy: 0.1007 - val_loss: 2.3038 - val_accuracy: 0.1000\n",
            "Epoch 27/50\n",
            "782/782 [==============================] - 7s 9ms/step - loss: 2.3034 - accuracy: 0.0996 - val_loss: 2.3036 - val_accuracy: 0.1000\n",
            "Epoch 28/50\n",
            "782/782 [==============================] - 7s 9ms/step - loss: 2.3035 - accuracy: 0.0997 - val_loss: 2.3028 - val_accuracy: 0.1000\n",
            "Epoch 29/50\n",
            "782/782 [==============================] - 7s 9ms/step - loss: 2.3037 - accuracy: 0.0970 - val_loss: 2.3033 - val_accuracy: 0.1000\n",
            "Epoch 30/50\n",
            "782/782 [==============================] - 7s 9ms/step - loss: 2.3036 - accuracy: 0.0993 - val_loss: 2.3038 - val_accuracy: 0.1000\n",
            "Epoch 31/50\n",
            "782/782 [==============================] - 7s 9ms/step - loss: 2.3037 - accuracy: 0.0974 - val_loss: 2.3033 - val_accuracy: 0.1000\n",
            "Epoch 32/50\n",
            "782/782 [==============================] - 8s 10ms/step - loss: 2.3034 - accuracy: 0.0998 - val_loss: 2.3035 - val_accuracy: 0.1000\n",
            "Epoch 33/50\n",
            "782/782 [==============================] - 7s 9ms/step - loss: 2.3036 - accuracy: 0.1004 - val_loss: 2.3036 - val_accuracy: 0.1000\n",
            "Epoch 34/50\n",
            "782/782 [==============================] - 7s 9ms/step - loss: 2.3036 - accuracy: 0.1005 - val_loss: 2.3039 - val_accuracy: 0.1000\n",
            "Epoch 35/50\n",
            "782/782 [==============================] - 7s 9ms/step - loss: 2.3037 - accuracy: 0.1016 - val_loss: 2.3036 - val_accuracy: 0.1000\n",
            "Epoch 36/50\n",
            "782/782 [==============================] - 7s 9ms/step - loss: 2.3037 - accuracy: 0.0987 - val_loss: 2.3031 - val_accuracy: 0.1000\n",
            "Epoch 37/50\n",
            "782/782 [==============================] - 7s 9ms/step - loss: 2.3036 - accuracy: 0.0987 - val_loss: 2.3033 - val_accuracy: 0.1000\n",
            "Epoch 38/50\n",
            "782/782 [==============================] - 8s 10ms/step - loss: 2.3036 - accuracy: 0.0998 - val_loss: 2.3034 - val_accuracy: 0.1000\n",
            "Epoch 39/50\n",
            "782/782 [==============================] - 7s 9ms/step - loss: 2.3037 - accuracy: 0.0975 - val_loss: 2.3031 - val_accuracy: 0.1000\n",
            "Epoch 40/50\n",
            "782/782 [==============================] - 7s 9ms/step - loss: 2.3036 - accuracy: 0.0985 - val_loss: 2.3034 - val_accuracy: 0.1000\n",
            "Epoch 41/50\n",
            "782/782 [==============================] - 7s 9ms/step - loss: 2.3036 - accuracy: 0.0997 - val_loss: 2.3030 - val_accuracy: 0.1000\n",
            "Epoch 42/50\n",
            "782/782 [==============================] - 7s 9ms/step - loss: 2.3033 - accuracy: 0.1009 - val_loss: 2.3036 - val_accuracy: 0.1000\n",
            "Epoch 43/50\n",
            "782/782 [==============================] - 7s 9ms/step - loss: 2.3035 - accuracy: 0.0992 - val_loss: 2.3036 - val_accuracy: 0.1000\n",
            "Epoch 44/50\n",
            "782/782 [==============================] - 7s 9ms/step - loss: 2.3034 - accuracy: 0.1002 - val_loss: 2.3029 - val_accuracy: 0.1000\n",
            "Epoch 45/50\n",
            "782/782 [==============================] - 7s 9ms/step - loss: 2.3036 - accuracy: 0.0996 - val_loss: 2.3032 - val_accuracy: 0.1000\n",
            "Epoch 46/50\n",
            "782/782 [==============================] - 7s 8ms/step - loss: 2.3035 - accuracy: 0.1006 - val_loss: 2.3030 - val_accuracy: 0.1000\n",
            "Epoch 47/50\n",
            "782/782 [==============================] - 7s 9ms/step - loss: 2.3038 - accuracy: 0.0969 - val_loss: 2.3029 - val_accuracy: 0.1000\n",
            "Epoch 48/50\n",
            "782/782 [==============================] - 7s 9ms/step - loss: 2.3038 - accuracy: 0.0995 - val_loss: 2.3033 - val_accuracy: 0.1000\n",
            "Epoch 49/50\n",
            "782/782 [==============================] - 7s 9ms/step - loss: 2.3036 - accuracy: 0.0977 - val_loss: 2.3037 - val_accuracy: 0.1000\n",
            "Epoch 50/50\n",
            "782/782 [==============================] - 7s 9ms/step - loss: 2.3038 - accuracy: 0.0963 - val_loss: 2.3033 - val_accuracy: 0.1000\n",
            "Test loss: 2.303337812423706\n",
            "Test accuracy: 0.10000000149011612\n"
          ]
        }
      ]
    },
    {
      "cell_type": "markdown",
      "source": [
        "## Case-E"
      ],
      "metadata": {
        "id": "CoWTIiVBSAtO"
      }
    },
    {
      "cell_type": "code",
      "source": [
        "from tensorflow import keras\n",
        "from keras.datasets import cifar10\n",
        "from keras.models import Sequential\n",
        "from keras.layers import Dense, Conv2D, MaxPooling2D, AveragePooling2D, Flatten, Dropout, BatchNormalization, Activation\n",
        "from keras import backend as K\n",
        "from tensorflow.keras.utils import to_categorical"
      ],
      "metadata": {
        "id": "EJOFRlJVSFWD"
      },
      "execution_count": 30,
      "outputs": []
    },
    {
      "cell_type": "code",
      "source": [
        "batch_size = 64\n",
        "num_classes = 10\n",
        "epochs = 50"
      ],
      "metadata": {
        "id": "iMrRjl-dSHX2"
      },
      "execution_count": 31,
      "outputs": []
    },
    {
      "cell_type": "code",
      "source": [
        "#  input image dimensions\n",
        "img_rows, img_cols = 32, 32\n",
        "# the data, split between train and test sets\n",
        "(x_train, y_train), (x_test, y_test) = cifar10.load_data()\n",
        "if K.image_data_format() == 'channels_first':\n",
        "  x_train = x_train.reshape(x_train.shape[0], 3, img_rows, img_cols)\n",
        "  x_test = x_test.reshape(x_test.shape[0], 3, img_rows, img_cols)\n",
        "  input_shape = (3, img_rows, img_cols)\n",
        "else:\n",
        "  x_train = x_train.reshape(x_train.shape[0], img_rows, img_cols, 3)\n",
        "  x_test = x_test.reshape(x_test.shape[0], img_rows, img_cols, 3)\n",
        "  input_shape = (img_rows, img_cols, 3)"
      ],
      "metadata": {
        "id": "DaPqXSWOSHQW"
      },
      "execution_count": 32,
      "outputs": []
    },
    {
      "cell_type": "code",
      "source": [
        "x_train = x_train.astype('float32')\n",
        "x_test = x_test.astype('float32')\n",
        "x_train /= 255\n",
        "x_test /= 255\n",
        "print('x_train shape:', x_train.shape)\n",
        "print(x_train.shape[0], 'training samples')\n",
        "print(x_test.shape[0], 'testing samples')\n",
        "\n",
        "# convert class vectors to binary class matrices\n",
        "y_train = to_categorical(y_train, num_classes)\n",
        "y_test = to_categorical(y_test, num_classes)"
      ],
      "metadata": {
        "colab": {
          "base_uri": "https://localhost:8080/"
        },
        "id": "jqNdMw91SHNz",
        "outputId": "fd0d4a3b-2ccf-4d6f-c8b7-a3ce29ab38da"
      },
      "execution_count": 33,
      "outputs": [
        {
          "output_type": "stream",
          "name": "stdout",
          "text": [
            "x_train shape: (50000, 32, 32, 3)\n",
            "50000 training samples\n",
            "10000 testing samples\n"
          ]
        }
      ]
    },
    {
      "cell_type": "code",
      "source": [
        "model = Sequential()\n",
        "model.add(Conv2D(filters = 32, kernel_size = (3,3), padding='same', input_shape = input_shape))\n",
        "model.add(Activation('relu'))\n",
        "model.add(BatchNormalization())\n",
        "model.add(Conv2D(filters = 32, kernel_size = (3,3), padding='same'))\n",
        "model.add(Activation('relu'))\n",
        "model.add(BatchNormalization())\n",
        "model.add(MaxPooling2D(2,2))\n",
        "model.add(Dropout(0.7))\n",
        "\n",
        "model.add(Conv2D(filters = 64, kernel_size = (3,3), padding='same'))\n",
        "model.add(Activation('relu'))\n",
        "model.add(BatchNormalization())\n",
        "model.add(Conv2D(filters = 64, kernel_size = (3,3), padding='same'))\n",
        "model.add(Activation('relu'))\n",
        "model.add(BatchNormalization())\n",
        "model.add(MaxPooling2D(2,2))\n",
        "model.add(Dropout(0.7))\n",
        "\n",
        "model.add(Conv2D(filters = 128, kernel_size = (3,3), padding='same'))\n",
        "model.add(Activation('relu'))\n",
        "model.add(BatchNormalization())\n",
        "model.add(Conv2D(filters = 128, kernel_size = (3,3), padding='same'))\n",
        "model.add(Activation('relu'))\n",
        "model.add(BatchNormalization())\n",
        "model.add(MaxPooling2D(2,2))\n",
        "model.add(Dropout(0.7))\n",
        "\n",
        "model.add(Flatten())\n",
        "\n",
        "model.add(Dense(units = 10, activation = 'softmax'))"
      ],
      "metadata": {
        "id": "k1mno-gNSG4p"
      },
      "execution_count": 34,
      "outputs": []
    },
    {
      "cell_type": "code",
      "source": [
        "# https://keras.io/optimizers/\n",
        "model.compile(loss=keras.losses.categorical_crossentropy, optimizer=keras.optimizers.Adam(lr=0.01), metrics=['accuracy'])"
      ],
      "metadata": {
        "id": "Dr4r2uwMSG2n"
      },
      "execution_count": 35,
      "outputs": []
    },
    {
      "cell_type": "code",
      "source": [
        "model.fit(x_train, y_train, batch_size=batch_size, epochs=epochs, verbose=1, validation_data=(x_test, y_test))\n",
        "score = model.evaluate(x_test, y_test, verbose=0)\n",
        "print('Test loss:', score[0])\n",
        "print('Test accuracy:', score[1])"
      ],
      "metadata": {
        "colab": {
          "base_uri": "https://localhost:8080/"
        },
        "id": "pUmdq-RLSG0Y",
        "outputId": "c711bf8e-0ee1-4c40-da00-bf36a7241bd8"
      },
      "execution_count": 36,
      "outputs": [
        {
          "output_type": "stream",
          "name": "stdout",
          "text": [
            "Epoch 1/50\n",
            "782/782 [==============================] - 10s 12ms/step - loss: 2.5471 - accuracy: 0.3030 - val_loss: 1.7007 - val_accuracy: 0.3993\n",
            "Epoch 2/50\n",
            "782/782 [==============================] - 8s 11ms/step - loss: 1.6134 - accuracy: 0.4063 - val_loss: 1.4033 - val_accuracy: 0.4892\n",
            "Epoch 3/50\n",
            "782/782 [==============================] - 8s 11ms/step - loss: 1.4661 - accuracy: 0.4653 - val_loss: 1.5909 - val_accuracy: 0.5231\n",
            "Epoch 4/50\n",
            "782/782 [==============================] - 8s 11ms/step - loss: 1.3637 - accuracy: 0.5084 - val_loss: 1.2385 - val_accuracy: 0.5509\n",
            "Epoch 5/50\n",
            "782/782 [==============================] - 8s 11ms/step - loss: 1.2885 - accuracy: 0.5366 - val_loss: 1.3628 - val_accuracy: 0.5349\n",
            "Epoch 6/50\n",
            "782/782 [==============================] - 9s 11ms/step - loss: 1.2313 - accuracy: 0.5601 - val_loss: 1.8501 - val_accuracy: 0.4873\n",
            "Epoch 7/50\n",
            "782/782 [==============================] - 8s 10ms/step - loss: 1.1919 - accuracy: 0.5759 - val_loss: 1.0275 - val_accuracy: 0.6313\n",
            "Epoch 8/50\n",
            "782/782 [==============================] - 8s 10ms/step - loss: 1.1441 - accuracy: 0.5925 - val_loss: 1.2291 - val_accuracy: 0.5925\n",
            "Epoch 9/50\n",
            "782/782 [==============================] - 8s 10ms/step - loss: 1.1121 - accuracy: 0.6090 - val_loss: 1.1514 - val_accuracy: 0.5890\n",
            "Epoch 10/50\n",
            "782/782 [==============================] - 8s 10ms/step - loss: 1.0837 - accuracy: 0.6214 - val_loss: 1.1312 - val_accuracy: 0.6245\n",
            "Epoch 11/50\n",
            "782/782 [==============================] - 8s 10ms/step - loss: 1.0564 - accuracy: 0.6287 - val_loss: 0.8547 - val_accuracy: 0.7037\n",
            "Epoch 12/50\n",
            "782/782 [==============================] - 8s 11ms/step - loss: 1.0320 - accuracy: 0.6392 - val_loss: 0.9317 - val_accuracy: 0.6725\n",
            "Epoch 13/50\n",
            "782/782 [==============================] - 8s 10ms/step - loss: 1.0156 - accuracy: 0.6447 - val_loss: 0.8547 - val_accuracy: 0.7010\n",
            "Epoch 14/50\n",
            "782/782 [==============================] - 9s 11ms/step - loss: 0.9951 - accuracy: 0.6530 - val_loss: 1.1912 - val_accuracy: 0.6188\n",
            "Epoch 15/50\n",
            "782/782 [==============================] - 9s 11ms/step - loss: 0.9889 - accuracy: 0.6549 - val_loss: 0.8347 - val_accuracy: 0.7093\n",
            "Epoch 16/50\n",
            "782/782 [==============================] - 9s 12ms/step - loss: 0.9643 - accuracy: 0.6657 - val_loss: 0.7678 - val_accuracy: 0.7295\n",
            "Epoch 17/50\n",
            "782/782 [==============================] - 8s 11ms/step - loss: 0.9568 - accuracy: 0.6672 - val_loss: 1.0340 - val_accuracy: 0.6567\n",
            "Epoch 18/50\n",
            "782/782 [==============================] - 8s 10ms/step - loss: 0.9372 - accuracy: 0.6731 - val_loss: 1.0354 - val_accuracy: 0.6464\n",
            "Epoch 19/50\n",
            "782/782 [==============================] - 9s 11ms/step - loss: 0.9343 - accuracy: 0.6727 - val_loss: 0.7740 - val_accuracy: 0.7304\n",
            "Epoch 20/50\n",
            "782/782 [==============================] - 9s 11ms/step - loss: 0.9199 - accuracy: 0.6807 - val_loss: 0.7934 - val_accuracy: 0.7268\n",
            "Epoch 21/50\n",
            "782/782 [==============================] - 9s 12ms/step - loss: 0.9123 - accuracy: 0.6840 - val_loss: 0.7784 - val_accuracy: 0.7304\n",
            "Epoch 22/50\n",
            "782/782 [==============================] - 9s 11ms/step - loss: 0.9081 - accuracy: 0.6845 - val_loss: 0.7790 - val_accuracy: 0.7286\n",
            "Epoch 23/50\n",
            "782/782 [==============================] - 10s 12ms/step - loss: 0.9018 - accuracy: 0.6873 - val_loss: 0.7868 - val_accuracy: 0.7233\n",
            "Epoch 24/50\n",
            "782/782 [==============================] - 9s 12ms/step - loss: 0.8954 - accuracy: 0.6894 - val_loss: 0.8294 - val_accuracy: 0.7216\n",
            "Epoch 25/50\n",
            "782/782 [==============================] - 9s 12ms/step - loss: 0.8785 - accuracy: 0.6953 - val_loss: 0.9962 - val_accuracy: 0.6595\n",
            "Epoch 26/50\n",
            "782/782 [==============================] - 10s 12ms/step - loss: 0.8733 - accuracy: 0.6983 - val_loss: 0.7321 - val_accuracy: 0.7471\n",
            "Epoch 27/50\n",
            "782/782 [==============================] - 9s 11ms/step - loss: 0.8637 - accuracy: 0.6991 - val_loss: 0.6680 - val_accuracy: 0.7682\n",
            "Epoch 28/50\n",
            "782/782 [==============================] - 8s 11ms/step - loss: 0.8611 - accuracy: 0.7038 - val_loss: 0.7309 - val_accuracy: 0.7505\n",
            "Epoch 29/50\n",
            "782/782 [==============================] - 9s 11ms/step - loss: 0.8562 - accuracy: 0.7018 - val_loss: 0.6631 - val_accuracy: 0.7667\n",
            "Epoch 30/50\n",
            "782/782 [==============================] - 9s 12ms/step - loss: 0.8535 - accuracy: 0.7045 - val_loss: 0.8139 - val_accuracy: 0.7223\n",
            "Epoch 31/50\n",
            "782/782 [==============================] - 9s 11ms/step - loss: 0.8407 - accuracy: 0.7112 - val_loss: 0.8197 - val_accuracy: 0.7331\n",
            "Epoch 32/50\n",
            "782/782 [==============================] - 9s 12ms/step - loss: 0.8424 - accuracy: 0.7086 - val_loss: 0.8970 - val_accuracy: 0.7063\n",
            "Epoch 33/50\n",
            "782/782 [==============================] - 9s 12ms/step - loss: 0.8363 - accuracy: 0.7119 - val_loss: 0.7413 - val_accuracy: 0.7403\n",
            "Epoch 34/50\n",
            "782/782 [==============================] - 9s 12ms/step - loss: 0.8304 - accuracy: 0.7144 - val_loss: 0.6830 - val_accuracy: 0.7661\n",
            "Epoch 35/50\n",
            "782/782 [==============================] - 9s 12ms/step - loss: 0.8311 - accuracy: 0.7147 - val_loss: 0.6949 - val_accuracy: 0.7651\n",
            "Epoch 36/50\n",
            "782/782 [==============================] - 9s 11ms/step - loss: 0.8272 - accuracy: 0.7140 - val_loss: 0.7267 - val_accuracy: 0.7450\n",
            "Epoch 37/50\n",
            "782/782 [==============================] - 9s 11ms/step - loss: 0.8228 - accuracy: 0.7168 - val_loss: 0.7246 - val_accuracy: 0.7501\n",
            "Epoch 38/50\n",
            "782/782 [==============================] - 9s 11ms/step - loss: 0.8237 - accuracy: 0.7167 - val_loss: 0.6506 - val_accuracy: 0.7724\n",
            "Epoch 39/50\n",
            "782/782 [==============================] - 9s 11ms/step - loss: 0.8124 - accuracy: 0.7178 - val_loss: 0.7395 - val_accuracy: 0.7529\n",
            "Epoch 40/50\n",
            "782/782 [==============================] - 9s 12ms/step - loss: 0.8083 - accuracy: 0.7197 - val_loss: 0.7125 - val_accuracy: 0.7559\n",
            "Epoch 41/50\n",
            "782/782 [==============================] - 9s 11ms/step - loss: 0.8111 - accuracy: 0.7213 - val_loss: 0.6922 - val_accuracy: 0.7679\n",
            "Epoch 42/50\n",
            "782/782 [==============================] - 9s 11ms/step - loss: 0.8040 - accuracy: 0.7232 - val_loss: 0.6444 - val_accuracy: 0.7828\n",
            "Epoch 43/50\n",
            "782/782 [==============================] - 9s 11ms/step - loss: 0.8127 - accuracy: 0.7216 - val_loss: 0.6762 - val_accuracy: 0.7704\n",
            "Epoch 44/50\n",
            "782/782 [==============================] - 10s 12ms/step - loss: 0.7979 - accuracy: 0.7235 - val_loss: 0.7267 - val_accuracy: 0.7598\n",
            "Epoch 45/50\n",
            "782/782 [==============================] - 9s 11ms/step - loss: 0.7971 - accuracy: 0.7249 - val_loss: 0.8195 - val_accuracy: 0.7268\n",
            "Epoch 46/50\n",
            "782/782 [==============================] - 9s 11ms/step - loss: 0.7934 - accuracy: 0.7280 - val_loss: 0.6202 - val_accuracy: 0.7919\n",
            "Epoch 47/50\n",
            "782/782 [==============================] - 8s 11ms/step - loss: 0.7857 - accuracy: 0.7306 - val_loss: 0.7625 - val_accuracy: 0.7449\n",
            "Epoch 48/50\n",
            "782/782 [==============================] - 9s 12ms/step - loss: 0.7874 - accuracy: 0.7292 - val_loss: 0.6927 - val_accuracy: 0.7671\n",
            "Epoch 49/50\n",
            "782/782 [==============================] - 9s 12ms/step - loss: 0.7823 - accuracy: 0.7306 - val_loss: 0.6940 - val_accuracy: 0.7653\n",
            "Epoch 50/50\n",
            "782/782 [==============================] - 9s 11ms/step - loss: 0.7847 - accuracy: 0.7277 - val_loss: 0.7066 - val_accuracy: 0.7650\n",
            "Test loss: 0.7065795660018921\n",
            "Test accuracy: 0.7649999856948853\n"
          ]
        }
      ]
    },
    {
      "cell_type": "markdown",
      "source": [
        "## Case-F(i)"
      ],
      "metadata": {
        "id": "J-s7U75rSVcM"
      }
    },
    {
      "cell_type": "code",
      "source": [
        "from tensorflow import keras\n",
        "from keras.datasets import cifar10\n",
        "from keras.models import Sequential\n",
        "from keras.layers import Dense, Conv2D, MaxPooling2D, AveragePooling2D, Flatten, Dropout, BatchNormalization, Activation\n",
        "from keras import backend as K\n",
        "from tensorflow.keras.utils import to_categorical"
      ],
      "metadata": {
        "id": "HINBBgGwSYfu"
      },
      "execution_count": 37,
      "outputs": []
    },
    {
      "cell_type": "code",
      "source": [
        "batch_size = 16\n",
        "num_classes = 10\n",
        "epochs = 50"
      ],
      "metadata": {
        "id": "W1RkoU6bSchp"
      },
      "execution_count": 38,
      "outputs": []
    },
    {
      "cell_type": "code",
      "source": [
        "#  input image dimensions\n",
        "img_rows, img_cols = 32, 32\n",
        "# the data, split between train and test sets\n",
        "(x_train, y_train), (x_test, y_test) = cifar10.load_data()\n",
        "if K.image_data_format() == 'channels_first':\n",
        "  x_train = x_train.reshape(x_train.shape[0], 3, img_rows, img_cols)\n",
        "  x_test = x_test.reshape(x_test.shape[0], 3, img_rows, img_cols)\n",
        "  input_shape = (3, img_rows, img_cols)\n",
        "else:\n",
        "  x_train = x_train.reshape(x_train.shape[0], img_rows, img_cols, 3)\n",
        "  x_test = x_test.reshape(x_test.shape[0], img_rows, img_cols, 3)\n",
        "  input_shape = (img_rows, img_cols, 3)"
      ],
      "metadata": {
        "id": "xHf8OjrTScfL"
      },
      "execution_count": 39,
      "outputs": []
    },
    {
      "cell_type": "code",
      "source": [
        "x_train = x_train.astype('float32')\n",
        "x_test = x_test.astype('float32')\n",
        "x_train /= 255\n",
        "x_test /= 255\n",
        "print('x_train shape:', x_train.shape)\n",
        "print(x_train.shape[0], 'training samples')\n",
        "print(x_test.shape[0], 'testing samples')\n",
        "\n",
        "# convert class vectors to binary class matrices\n",
        "y_train = to_categorical(y_train, num_classes)\n",
        "y_test = to_categorical(y_test, num_classes)"
      ],
      "metadata": {
        "colab": {
          "base_uri": "https://localhost:8080/"
        },
        "id": "tmnUMqnWSdc4",
        "outputId": "75cff815-3d6b-485a-a5c5-fa1c2fa539fe"
      },
      "execution_count": 40,
      "outputs": [
        {
          "output_type": "stream",
          "name": "stdout",
          "text": [
            "x_train shape: (50000, 32, 32, 3)\n",
            "50000 training samples\n",
            "10000 testing samples\n"
          ]
        }
      ]
    },
    {
      "cell_type": "code",
      "source": [
        "model = Sequential()\n",
        "model.add(Conv2D(filters = 32, kernel_size = (3,3), padding='same', input_shape = input_shape))\n",
        "model.add(Activation('relu'))\n",
        "model.add(BatchNormalization())\n",
        "model.add(Conv2D(filters = 32, kernel_size = (3,3), padding='same'))\n",
        "model.add(Activation('relu'))\n",
        "model.add(BatchNormalization())\n",
        "model.add(MaxPooling2D(2,2))\n",
        "model.add(Dropout(0.2))\n",
        "\n",
        "model.add(Conv2D(filters = 64, kernel_size = (3,3), padding='same'))\n",
        "model.add(Activation('relu'))\n",
        "model.add(BatchNormalization())\n",
        "model.add(Conv2D(filters = 64, kernel_size = (3,3), padding='same'))\n",
        "model.add(Activation('relu'))\n",
        "model.add(BatchNormalization())\n",
        "model.add(MaxPooling2D(2,2))\n",
        "model.add(Dropout(0.3))\n",
        "\n",
        "model.add(Conv2D(filters = 128, kernel_size = (3,3), padding='same'))\n",
        "model.add(Activation('relu'))\n",
        "model.add(BatchNormalization())\n",
        "model.add(Conv2D(filters = 128, kernel_size = (3,3), padding='same'))\n",
        "model.add(Activation('relu'))\n",
        "model.add(BatchNormalization())\n",
        "model.add(MaxPooling2D(2,2))\n",
        "model.add(Dropout(0.4))\n",
        "\n",
        "model.add(Flatten())\n",
        "\n",
        "model.add(Dense(units = 10, activation = 'softmax'))"
      ],
      "metadata": {
        "id": "rikijqGbSdTs"
      },
      "execution_count": 41,
      "outputs": []
    },
    {
      "cell_type": "code",
      "source": [
        "# https://keras.io/optimizers/\n",
        "model.compile(loss=keras.losses.categorical_crossentropy, optimizer=keras.optimizers.Adam(lr=0.01), metrics=['accuracy'])"
      ],
      "metadata": {
        "id": "8tllReE9SdOT"
      },
      "execution_count": 42,
      "outputs": []
    },
    {
      "cell_type": "code",
      "source": [
        "model.fit(x_train, y_train, batch_size=batch_size, epochs=epochs, verbose=1, validation_data=(x_test, y_test))\n",
        "score = model.evaluate(x_test, y_test, verbose=0)\n",
        "print('Test loss:', score[0])\n",
        "print('Test accuracy:', score[1])"
      ],
      "metadata": {
        "colab": {
          "base_uri": "https://localhost:8080/"
        },
        "id": "IMDA-biKScdm",
        "outputId": "d48c441c-16f9-4e54-c49c-1c6e55745906"
      },
      "execution_count": 43,
      "outputs": [
        {
          "output_type": "stream",
          "name": "stdout",
          "text": [
            "Epoch 1/50\n",
            "3125/3125 [==============================] - 26s 8ms/step - loss: 1.7438 - accuracy: 0.4413 - val_loss: 1.3339 - val_accuracy: 0.5572\n",
            "Epoch 2/50\n",
            "3125/3125 [==============================] - 23s 7ms/step - loss: 1.1637 - accuracy: 0.5954 - val_loss: 1.0877 - val_accuracy: 0.6391\n",
            "Epoch 3/50\n",
            "3125/3125 [==============================] - 23s 8ms/step - loss: 1.0445 - accuracy: 0.6446 - val_loss: 0.9449 - val_accuracy: 0.6735\n",
            "Epoch 4/50\n",
            "3125/3125 [==============================] - 22s 7ms/step - loss: 0.9661 - accuracy: 0.6737 - val_loss: 0.9291 - val_accuracy: 0.6868\n",
            "Epoch 5/50\n",
            "3125/3125 [==============================] - 24s 8ms/step - loss: 0.9042 - accuracy: 0.6948 - val_loss: 0.7601 - val_accuracy: 0.7345\n",
            "Epoch 6/50\n",
            "3125/3125 [==============================] - 24s 8ms/step - loss: 0.8550 - accuracy: 0.7137 - val_loss: 0.7733 - val_accuracy: 0.7504\n",
            "Epoch 7/50\n",
            "3125/3125 [==============================] - 23s 7ms/step - loss: 0.8155 - accuracy: 0.7266 - val_loss: 0.8021 - val_accuracy: 0.7337\n",
            "Epoch 8/50\n",
            "3125/3125 [==============================] - 23s 7ms/step - loss: 0.7812 - accuracy: 0.7395 - val_loss: 0.7202 - val_accuracy: 0.7578\n",
            "Epoch 9/50\n",
            "3125/3125 [==============================] - 24s 8ms/step - loss: 0.7558 - accuracy: 0.7475 - val_loss: 0.6539 - val_accuracy: 0.7877\n",
            "Epoch 10/50\n",
            "3125/3125 [==============================] - 24s 8ms/step - loss: 0.7267 - accuracy: 0.7594 - val_loss: 0.5870 - val_accuracy: 0.8052\n",
            "Epoch 11/50\n",
            "3125/3125 [==============================] - 24s 8ms/step - loss: 0.7087 - accuracy: 0.7648 - val_loss: 0.6577 - val_accuracy: 0.7801\n",
            "Epoch 12/50\n",
            "3125/3125 [==============================] - 24s 8ms/step - loss: 0.6898 - accuracy: 0.7696 - val_loss: 1.0742 - val_accuracy: 0.8076\n",
            "Epoch 13/50\n",
            "3125/3125 [==============================] - 25s 8ms/step - loss: 0.6724 - accuracy: 0.7784 - val_loss: 0.6174 - val_accuracy: 0.8051\n",
            "Epoch 14/50\n",
            "3125/3125 [==============================] - 25s 8ms/step - loss: 0.6555 - accuracy: 0.7811 - val_loss: 0.6007 - val_accuracy: 0.8080\n",
            "Epoch 15/50\n",
            "3125/3125 [==============================] - 22s 7ms/step - loss: 0.6447 - accuracy: 0.7870 - val_loss: 0.6318 - val_accuracy: 0.7915\n",
            "Epoch 16/50\n",
            "3125/3125 [==============================] - 24s 8ms/step - loss: 0.6276 - accuracy: 0.7939 - val_loss: 0.6754 - val_accuracy: 0.7886\n",
            "Epoch 17/50\n",
            "3125/3125 [==============================] - 26s 8ms/step - loss: 0.6181 - accuracy: 0.7948 - val_loss: 0.5940 - val_accuracy: 0.8077\n",
            "Epoch 18/50\n",
            "3125/3125 [==============================] - 24s 8ms/step - loss: 0.6038 - accuracy: 0.8020 - val_loss: 0.6287 - val_accuracy: 0.8078\n",
            "Epoch 19/50\n",
            "3125/3125 [==============================] - 23s 7ms/step - loss: 0.5995 - accuracy: 0.8008 - val_loss: 0.5712 - val_accuracy: 0.8109\n",
            "Epoch 20/50\n",
            "3125/3125 [==============================] - 23s 7ms/step - loss: 0.5857 - accuracy: 0.8077 - val_loss: 0.6717 - val_accuracy: 0.7961\n",
            "Epoch 21/50\n",
            "3125/3125 [==============================] - 26s 8ms/step - loss: 0.5829 - accuracy: 0.8084 - val_loss: 0.6005 - val_accuracy: 0.8186\n",
            "Epoch 22/50\n",
            "3125/3125 [==============================] - 25s 8ms/step - loss: 0.5708 - accuracy: 0.8145 - val_loss: 0.5613 - val_accuracy: 0.8268\n",
            "Epoch 23/50\n",
            "3125/3125 [==============================] - 22s 7ms/step - loss: 0.5636 - accuracy: 0.8166 - val_loss: 0.5697 - val_accuracy: 0.8256\n",
            "Epoch 24/50\n",
            "3125/3125 [==============================] - 25s 8ms/step - loss: 0.5627 - accuracy: 0.8170 - val_loss: 0.5526 - val_accuracy: 0.8325\n",
            "Epoch 25/50\n",
            "3125/3125 [==============================] - 25s 8ms/step - loss: 0.5437 - accuracy: 0.8217 - val_loss: 0.5975 - val_accuracy: 0.8165\n",
            "Epoch 26/50\n",
            "3125/3125 [==============================] - 23s 7ms/step - loss: 0.5430 - accuracy: 0.8234 - val_loss: 0.5625 - val_accuracy: 0.8265\n",
            "Epoch 27/50\n",
            "3125/3125 [==============================] - 24s 8ms/step - loss: 0.5401 - accuracy: 0.8247 - val_loss: 0.5848 - val_accuracy: 0.8169\n",
            "Epoch 28/50\n",
            "3125/3125 [==============================] - 25s 8ms/step - loss: 0.5273 - accuracy: 0.8282 - val_loss: 0.5645 - val_accuracy: 0.8250\n",
            "Epoch 29/50\n",
            "3125/3125 [==============================] - 22s 7ms/step - loss: 0.5266 - accuracy: 0.8298 - val_loss: 0.6175 - val_accuracy: 0.8173\n",
            "Epoch 30/50\n",
            "3125/3125 [==============================] - 20s 6ms/step - loss: 0.5180 - accuracy: 0.8326 - val_loss: 0.6191 - val_accuracy: 0.8112\n",
            "Epoch 31/50\n",
            "3125/3125 [==============================] - 23s 7ms/step - loss: 0.5166 - accuracy: 0.8338 - val_loss: 0.6597 - val_accuracy: 0.8074\n",
            "Epoch 32/50\n",
            "3125/3125 [==============================] - 23s 7ms/step - loss: 0.5188 - accuracy: 0.8318 - val_loss: 0.6073 - val_accuracy: 0.8263\n",
            "Epoch 33/50\n",
            "3125/3125 [==============================] - 22s 7ms/step - loss: 0.5045 - accuracy: 0.8374 - val_loss: 0.6084 - val_accuracy: 0.8198\n",
            "Epoch 34/50\n",
            "3125/3125 [==============================] - 21s 7ms/step - loss: 0.4980 - accuracy: 0.8393 - val_loss: 0.6844 - val_accuracy: 0.8032\n",
            "Epoch 35/50\n",
            "3125/3125 [==============================] - 21s 7ms/step - loss: 0.4946 - accuracy: 0.8418 - val_loss: 0.5759 - val_accuracy: 0.8326\n",
            "Epoch 36/50\n",
            "3125/3125 [==============================] - 22s 7ms/step - loss: 0.4923 - accuracy: 0.8424 - val_loss: 0.5507 - val_accuracy: 0.8373\n",
            "Epoch 37/50\n",
            "3125/3125 [==============================] - 23s 7ms/step - loss: 0.4965 - accuracy: 0.8412 - val_loss: 0.6877 - val_accuracy: 0.8083\n",
            "Epoch 38/50\n",
            "3125/3125 [==============================] - 21s 7ms/step - loss: 0.4839 - accuracy: 0.8437 - val_loss: 0.5454 - val_accuracy: 0.8401\n",
            "Epoch 39/50\n",
            "3125/3125 [==============================] - 21s 7ms/step - loss: 0.4894 - accuracy: 0.8433 - val_loss: 0.6137 - val_accuracy: 0.8279\n",
            "Epoch 40/50\n",
            "3125/3125 [==============================] - 21s 7ms/step - loss: 0.4806 - accuracy: 0.8469 - val_loss: 0.5715 - val_accuracy: 0.8368\n",
            "Epoch 41/50\n",
            "3125/3125 [==============================] - 23s 7ms/step - loss: 0.4724 - accuracy: 0.8504 - val_loss: 0.5730 - val_accuracy: 0.8400\n",
            "Epoch 42/50\n",
            "3125/3125 [==============================] - 20s 6ms/step - loss: 0.4730 - accuracy: 0.8492 - val_loss: 0.5781 - val_accuracy: 0.8339\n",
            "Epoch 43/50\n",
            "3125/3125 [==============================] - 22s 7ms/step - loss: 0.4675 - accuracy: 0.8503 - val_loss: 0.6551 - val_accuracy: 0.8246\n",
            "Epoch 44/50\n",
            "3125/3125 [==============================] - 22s 7ms/step - loss: 0.4669 - accuracy: 0.8513 - val_loss: 0.6290 - val_accuracy: 0.8252\n",
            "Epoch 45/50\n",
            "3125/3125 [==============================] - 23s 7ms/step - loss: 0.4648 - accuracy: 0.8510 - val_loss: 0.5814 - val_accuracy: 0.8373\n",
            "Epoch 46/50\n",
            "3125/3125 [==============================] - 21s 7ms/step - loss: 0.4611 - accuracy: 0.8525 - val_loss: 0.5687 - val_accuracy: 0.8350\n",
            "Epoch 47/50\n",
            "3125/3125 [==============================] - 22s 7ms/step - loss: 0.4612 - accuracy: 0.8525 - val_loss: 0.5516 - val_accuracy: 0.8372\n",
            "Epoch 48/50\n",
            "3125/3125 [==============================] - 22s 7ms/step - loss: 0.4488 - accuracy: 0.8562 - val_loss: 0.5890 - val_accuracy: 0.8345\n",
            "Epoch 49/50\n",
            "3125/3125 [==============================] - 22s 7ms/step - loss: 0.4491 - accuracy: 0.8589 - val_loss: 0.5605 - val_accuracy: 0.8471\n",
            "Epoch 50/50\n",
            "3125/3125 [==============================] - 22s 7ms/step - loss: 0.4490 - accuracy: 0.8582 - val_loss: 0.5706 - val_accuracy: 0.8412\n",
            "Test loss: 0.5705927014350891\n",
            "Test accuracy: 0.8411999940872192\n"
          ]
        }
      ]
    },
    {
      "cell_type": "markdown",
      "source": [
        "### Case-F(ii)"
      ],
      "metadata": {
        "id": "lZ-hQht3Sp4C"
      }
    },
    {
      "cell_type": "code",
      "source": [
        "from tensorflow import keras\n",
        "from keras.datasets import cifar10\n",
        "from keras.models import Sequential\n",
        "from keras.layers import Dense, Conv2D, MaxPooling2D, AveragePooling2D, Flatten, Dropout, BatchNormalization, Activation\n",
        "from keras import backend as K\n",
        "from tensorflow.keras.utils import to_categorical"
      ],
      "metadata": {
        "id": "zUQaWTUJSwON"
      },
      "execution_count": 44,
      "outputs": []
    },
    {
      "cell_type": "code",
      "source": [
        "batch_size = 256\n",
        "num_classes = 10\n",
        "epochs = 50"
      ],
      "metadata": {
        "id": "qH2ro9QUSwIj"
      },
      "execution_count": 45,
      "outputs": []
    },
    {
      "cell_type": "code",
      "source": [
        "#  input image dimensions\n",
        "img_rows, img_cols = 32, 32\n",
        "# the data, split between train and test sets\n",
        "(x_train, y_train), (x_test, y_test) = cifar10.load_data()\n",
        "if K.image_data_format() == 'channels_first':\n",
        "  x_train = x_train.reshape(x_train.shape[0], 3, img_rows, img_cols)\n",
        "  x_test = x_test.reshape(x_test.shape[0], 3, img_rows, img_cols)\n",
        "  input_shape = (3, img_rows, img_cols)\n",
        "else:\n",
        "  x_train = x_train.reshape(x_train.shape[0], img_rows, img_cols, 3)\n",
        "  x_test = x_test.reshape(x_test.shape[0], img_rows, img_cols, 3)\n",
        "  input_shape = (img_rows, img_cols, 3)"
      ],
      "metadata": {
        "id": "kS7HOC2kSwCG"
      },
      "execution_count": 46,
      "outputs": []
    },
    {
      "cell_type": "code",
      "source": [
        "x_train = x_train.astype('float32')\n",
        "x_test = x_test.astype('float32')\n",
        "x_train /= 255\n",
        "x_test /= 255\n",
        "print('x_train shape:', x_train.shape)\n",
        "print(x_train.shape[0], 'training samples')\n",
        "print(x_test.shape[0], 'testing samples')\n",
        "\n",
        "# convert class vectors to binary class matrices\n",
        "y_train = to_categorical(y_train, num_classes)\n",
        "y_test = to_categorical(y_test, num_classes)"
      ],
      "metadata": {
        "colab": {
          "base_uri": "https://localhost:8080/"
        },
        "id": "0IdiUfCYSv8B",
        "outputId": "b9e2585b-b3bb-4c85-f428-e42afbe61676"
      },
      "execution_count": 47,
      "outputs": [
        {
          "output_type": "stream",
          "name": "stdout",
          "text": [
            "x_train shape: (50000, 32, 32, 3)\n",
            "50000 training samples\n",
            "10000 testing samples\n"
          ]
        }
      ]
    },
    {
      "cell_type": "code",
      "source": [
        "model = Sequential()\n",
        "model.add(Conv2D(filters = 32, kernel_size = (3,3), padding='same', input_shape = input_shape))\n",
        "model.add(Activation('relu'))\n",
        "model.add(BatchNormalization())\n",
        "model.add(Conv2D(filters = 32, kernel_size = (3,3), padding='same'))\n",
        "model.add(Activation('relu'))\n",
        "model.add(BatchNormalization())\n",
        "model.add(MaxPooling2D(2,2))\n",
        "model.add(Dropout(0.2))\n",
        "\n",
        "model.add(Conv2D(filters = 64, kernel_size = (3,3), padding='same'))\n",
        "model.add(Activation('relu'))\n",
        "model.add(BatchNormalization())\n",
        "model.add(Conv2D(filters = 64, kernel_size = (3,3), padding='same'))\n",
        "model.add(Activation('relu'))\n",
        "model.add(BatchNormalization())\n",
        "model.add(MaxPooling2D(2,2))\n",
        "model.add(Dropout(0.3))\n",
        "\n",
        "model.add(Conv2D(filters = 128, kernel_size = (3,3), padding='same'))\n",
        "model.add(Activation('relu'))\n",
        "model.add(BatchNormalization())\n",
        "model.add(Conv2D(filters = 128, kernel_size = (3,3), padding='same'))\n",
        "model.add(Activation('relu'))\n",
        "model.add(BatchNormalization())\n",
        "model.add(MaxPooling2D(2,2))\n",
        "model.add(Dropout(0.4))\n",
        "\n",
        "model.add(Flatten())\n",
        "\n",
        "model.add(Dense(units = 10, activation = 'softmax'))"
      ],
      "metadata": {
        "id": "38BcP6nWSv3J"
      },
      "execution_count": 48,
      "outputs": []
    },
    {
      "cell_type": "code",
      "source": [
        "# https://keras.io/optimizers/\n",
        "model.compile(loss=keras.losses.categorical_crossentropy, optimizer=keras.optimizers.Adam(lr=0.01), metrics=['accuracy'])"
      ],
      "metadata": {
        "id": "ZL-fXppdSvd0"
      },
      "execution_count": 49,
      "outputs": []
    },
    {
      "cell_type": "code",
      "source": [
        "model.fit(x_train, y_train, batch_size=batch_size, epochs=epochs, verbose=1, validation_data=(x_test, y_test))\n",
        "score = model.evaluate(x_test, y_test, verbose=0)\n",
        "print('Test loss:', score[0])\n",
        "print('Test accuracy:', score[1]) "
      ],
      "metadata": {
        "colab": {
          "base_uri": "https://localhost:8080/"
        },
        "id": "IvcCk2h2SuJ2",
        "outputId": "d3915da8-010c-4f4e-9a5c-544527a95a04"
      },
      "execution_count": 50,
      "outputs": [
        {
          "output_type": "stream",
          "name": "stdout",
          "text": [
            "Epoch 1/50\n",
            "196/196 [==============================] - 9s 36ms/step - loss: 2.6317 - accuracy: 0.3493 - val_loss: 4.6069 - val_accuracy: 0.1412\n",
            "Epoch 2/50\n",
            "196/196 [==============================] - 6s 33ms/step - loss: 1.4758 - accuracy: 0.5143 - val_loss: 1.2963 - val_accuracy: 0.5324\n",
            "Epoch 3/50\n",
            "196/196 [==============================] - 6s 32ms/step - loss: 1.1121 - accuracy: 0.6059 - val_loss: 1.4062 - val_accuracy: 0.5111\n",
            "Epoch 4/50\n",
            "196/196 [==============================] - 7s 34ms/step - loss: 0.9598 - accuracy: 0.6612 - val_loss: 1.1598 - val_accuracy: 0.5980\n",
            "Epoch 5/50\n",
            "196/196 [==============================] - 6s 33ms/step - loss: 0.8567 - accuracy: 0.6976 - val_loss: 0.7869 - val_accuracy: 0.7236\n",
            "Epoch 6/50\n",
            "196/196 [==============================] - 6s 31ms/step - loss: 0.7886 - accuracy: 0.7227 - val_loss: 0.9369 - val_accuracy: 0.6860\n",
            "Epoch 7/50\n",
            "196/196 [==============================] - 6s 31ms/step - loss: 0.7394 - accuracy: 0.7397 - val_loss: 0.8278 - val_accuracy: 0.7187\n",
            "Epoch 8/50\n",
            "196/196 [==============================] - 6s 31ms/step - loss: 0.6960 - accuracy: 0.7543 - val_loss: 0.6990 - val_accuracy: 0.7568\n",
            "Epoch 9/50\n",
            "196/196 [==============================] - 6s 30ms/step - loss: 0.6522 - accuracy: 0.7702 - val_loss: 0.6632 - val_accuracy: 0.7765\n",
            "Epoch 10/50\n",
            "196/196 [==============================] - 6s 31ms/step - loss: 0.6229 - accuracy: 0.7823 - val_loss: 0.6577 - val_accuracy: 0.7773\n",
            "Epoch 11/50\n",
            "196/196 [==============================] - 6s 31ms/step - loss: 0.6037 - accuracy: 0.7871 - val_loss: 0.9092 - val_accuracy: 0.7118\n",
            "Epoch 12/50\n",
            "196/196 [==============================] - 6s 31ms/step - loss: 0.5784 - accuracy: 0.7955 - val_loss: 0.6299 - val_accuracy: 0.7852\n",
            "Epoch 13/50\n",
            "196/196 [==============================] - 6s 31ms/step - loss: 0.5472 - accuracy: 0.8104 - val_loss: 0.6430 - val_accuracy: 0.7811\n",
            "Epoch 14/50\n",
            "196/196 [==============================] - 6s 31ms/step - loss: 0.5272 - accuracy: 0.8164 - val_loss: 0.6444 - val_accuracy: 0.7801\n",
            "Epoch 15/50\n",
            "196/196 [==============================] - 6s 31ms/step - loss: 0.5132 - accuracy: 0.8180 - val_loss: 0.6340 - val_accuracy: 0.7913\n",
            "Epoch 16/50\n",
            "196/196 [==============================] - 6s 32ms/step - loss: 0.4909 - accuracy: 0.8283 - val_loss: 0.6910 - val_accuracy: 0.7748\n",
            "Epoch 17/50\n",
            "196/196 [==============================] - 6s 31ms/step - loss: 0.4871 - accuracy: 0.8287 - val_loss: 0.6247 - val_accuracy: 0.7972\n",
            "Epoch 18/50\n",
            "196/196 [==============================] - 6s 32ms/step - loss: 0.4675 - accuracy: 0.8352 - val_loss: 0.6074 - val_accuracy: 0.7954\n",
            "Epoch 19/50\n",
            "196/196 [==============================] - 6s 33ms/step - loss: 0.4563 - accuracy: 0.8369 - val_loss: 0.5908 - val_accuracy: 0.8065\n",
            "Epoch 20/50\n",
            "196/196 [==============================] - 6s 32ms/step - loss: 0.4393 - accuracy: 0.8456 - val_loss: 0.5433 - val_accuracy: 0.8180\n",
            "Epoch 21/50\n",
            "196/196 [==============================] - 6s 33ms/step - loss: 0.4355 - accuracy: 0.8466 - val_loss: 0.6391 - val_accuracy: 0.7984\n",
            "Epoch 22/50\n",
            "196/196 [==============================] - 6s 31ms/step - loss: 0.4209 - accuracy: 0.8511 - val_loss: 0.5986 - val_accuracy: 0.8057\n",
            "Epoch 23/50\n",
            "196/196 [==============================] - 6s 31ms/step - loss: 0.4083 - accuracy: 0.8549 - val_loss: 0.6070 - val_accuracy: 0.8140\n",
            "Epoch 24/50\n",
            "196/196 [==============================] - 6s 33ms/step - loss: 0.4024 - accuracy: 0.8566 - val_loss: 0.6476 - val_accuracy: 0.7945\n",
            "Epoch 25/50\n",
            "196/196 [==============================] - 6s 33ms/step - loss: 0.3892 - accuracy: 0.8646 - val_loss: 0.6131 - val_accuracy: 0.8074\n",
            "Epoch 26/50\n",
            "196/196 [==============================] - 6s 31ms/step - loss: 0.3814 - accuracy: 0.8643 - val_loss: 0.5221 - val_accuracy: 0.8317\n",
            "Epoch 27/50\n",
            "196/196 [==============================] - 6s 31ms/step - loss: 0.3680 - accuracy: 0.8694 - val_loss: 0.5578 - val_accuracy: 0.8283\n",
            "Epoch 28/50\n",
            "196/196 [==============================] - 6s 31ms/step - loss: 0.3661 - accuracy: 0.8706 - val_loss: 0.5662 - val_accuracy: 0.8213\n",
            "Epoch 29/50\n",
            "196/196 [==============================] - 6s 31ms/step - loss: 0.3559 - accuracy: 0.8743 - val_loss: 0.6025 - val_accuracy: 0.8166\n",
            "Epoch 30/50\n",
            "196/196 [==============================] - 6s 31ms/step - loss: 0.3494 - accuracy: 0.8772 - val_loss: 0.6444 - val_accuracy: 0.8107\n",
            "Epoch 31/50\n",
            "196/196 [==============================] - 6s 32ms/step - loss: 0.3447 - accuracy: 0.8780 - val_loss: 0.5427 - val_accuracy: 0.8263\n",
            "Epoch 32/50\n",
            "196/196 [==============================] - 6s 32ms/step - loss: 0.3328 - accuracy: 0.8836 - val_loss: 0.6223 - val_accuracy: 0.8074\n",
            "Epoch 33/50\n",
            "196/196 [==============================] - 6s 31ms/step - loss: 0.3325 - accuracy: 0.8826 - val_loss: 0.5407 - val_accuracy: 0.8363\n",
            "Epoch 34/50\n",
            "196/196 [==============================] - 6s 31ms/step - loss: 0.3243 - accuracy: 0.8867 - val_loss: 0.6243 - val_accuracy: 0.8198\n",
            "Epoch 35/50\n",
            "196/196 [==============================] - 6s 31ms/step - loss: 0.3227 - accuracy: 0.8862 - val_loss: 0.5830 - val_accuracy: 0.8249\n",
            "Epoch 36/50\n",
            "196/196 [==============================] - 6s 31ms/step - loss: 0.3130 - accuracy: 0.8895 - val_loss: 0.6614 - val_accuracy: 0.8036\n",
            "Epoch 37/50\n",
            "196/196 [==============================] - 6s 31ms/step - loss: 0.3080 - accuracy: 0.8909 - val_loss: 0.5676 - val_accuracy: 0.8384\n",
            "Epoch 38/50\n",
            "196/196 [==============================] - 6s 32ms/step - loss: 0.3007 - accuracy: 0.8938 - val_loss: 0.6028 - val_accuracy: 0.8201\n",
            "Epoch 39/50\n",
            "196/196 [==============================] - 6s 33ms/step - loss: 0.3035 - accuracy: 0.8917 - val_loss: 0.5866 - val_accuracy: 0.8312\n",
            "Epoch 40/50\n",
            "196/196 [==============================] - 6s 32ms/step - loss: 0.2924 - accuracy: 0.8967 - val_loss: 0.6443 - val_accuracy: 0.8145\n",
            "Epoch 41/50\n",
            "196/196 [==============================] - 6s 31ms/step - loss: 0.2840 - accuracy: 0.8998 - val_loss: 0.8255 - val_accuracy: 0.7851\n",
            "Epoch 42/50\n",
            "196/196 [==============================] - 6s 31ms/step - loss: 0.2891 - accuracy: 0.8972 - val_loss: 0.5372 - val_accuracy: 0.8428\n",
            "Epoch 43/50\n",
            "196/196 [==============================] - 6s 33ms/step - loss: 0.2751 - accuracy: 0.9012 - val_loss: 0.5982 - val_accuracy: 0.8321\n",
            "Epoch 44/50\n",
            "196/196 [==============================] - 6s 33ms/step - loss: 0.2741 - accuracy: 0.9031 - val_loss: 0.5193 - val_accuracy: 0.8502\n",
            "Epoch 45/50\n",
            "196/196 [==============================] - 7s 34ms/step - loss: 0.2696 - accuracy: 0.9054 - val_loss: 0.6686 - val_accuracy: 0.8236\n",
            "Epoch 46/50\n",
            "196/196 [==============================] - 6s 31ms/step - loss: 0.2693 - accuracy: 0.9041 - val_loss: 0.6087 - val_accuracy: 0.8214\n",
            "Epoch 47/50\n",
            "196/196 [==============================] - 6s 31ms/step - loss: 0.2653 - accuracy: 0.9057 - val_loss: 0.5902 - val_accuracy: 0.8346\n",
            "Epoch 48/50\n",
            "196/196 [==============================] - 6s 31ms/step - loss: 0.2599 - accuracy: 0.9088 - val_loss: 0.6906 - val_accuracy: 0.8122\n",
            "Epoch 49/50\n",
            "196/196 [==============================] - 6s 31ms/step - loss: 0.2570 - accuracy: 0.9092 - val_loss: 0.5461 - val_accuracy: 0.8488\n",
            "Epoch 50/50\n",
            "196/196 [==============================] - 6s 32ms/step - loss: 0.2542 - accuracy: 0.9090 - val_loss: 0.5818 - val_accuracy: 0.8433\n",
            "Test loss: 0.5818068385124207\n",
            "Test accuracy: 0.8432999849319458\n"
          ]
        }
      ]
    },
    {
      "cell_type": "code",
      "source": [],
      "metadata": {
        "id": "01ugmbZPcS9r"
      },
      "execution_count": null,
      "outputs": []
    }
  ]
}